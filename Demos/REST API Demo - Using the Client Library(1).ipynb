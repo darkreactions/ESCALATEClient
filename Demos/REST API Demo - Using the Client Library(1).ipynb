{
 "cells": [
  {
   "cell_type": "markdown",
   "metadata": {},
   "source": [
    "# Using the ESCALATEClient REST API Client\n"
   ]
  },
  {
   "cell_type": "code",
   "execution_count": 1,
   "metadata": {},
   "outputs": [],
   "source": [
    "#factor this out when it's imported into the client\n",
    "\n",
    "import json\n",
    "import os\n",
    "\n",
    "from pprint import pprint\n",
    "import pandas as pd\n",
    "import requests\n",
    "\n",
    "class ESCALATEClient():\n",
    "    \"\"\"ESCALATE API Client\"\"\"\n",
    "    \n",
    "    def __init__(self, base_url, username, password):\n",
    "        self.base_url = base_url\n",
    "        self.username = username\n",
    "        self.password = password\n",
    "        self._token = None\n",
    "        self._is_logged_in = False\n",
    "        self._login()\n",
    "        \n",
    "    def _login(self):\n",
    "        r_login = requests.post(f'{self.base_url}/api/login', \n",
    "                                data={'username': self.username, \n",
    "                                      'password': self.password})\n",
    "        self._token = r_login.json()['token']\n",
    "        self._token_header = {'Authorization': f'Token {self._token}'}\n",
    "        self._is_logged_in = True\n",
    "        \n",
    "    def get(self, \n",
    "            endpoint='', \n",
    "            data=None, \n",
    "            parse_json=True, \n",
    "            content_type='application/json'):\n",
    "        \"\"\"Make GET request with `data` to `endpoint` in ESCALATE API\n",
    "    \n",
    "        return: (dict|list|requests.Response), bool\n",
    "        \"\"\"\n",
    "        data = {} if data is None else data\n",
    "        r = requests.get(f'{self.base_url}/api/{endpoint}',\n",
    "                         params=data, \n",
    "                         headers={**self._token_header, \n",
    "                                  'content-type': content_type})\n",
    "        if r.ok: \n",
    "            print('GET: OK')\n",
    "        else: \n",
    "            print('GET: FAILED')\n",
    "        \n",
    "        if r.ok and parse_json:\n",
    "            resp_json = r.json()        \n",
    "            # handle cases: no vs one vs many results\n",
    "            count = resp_json.get('count')\n",
    "            if count is None or count == 0:\n",
    "                return r.json()\n",
    "            elif count == 1: \n",
    "                print('Found one resource, returning dict')\n",
    "                return resp_json['results'][0]\n",
    "            elif count >= 1: \n",
    "                print(f\"Found {resp_json['count']} resources, returning list of dicts)\")\n",
    "                return r.json()['results']\n",
    "        print('Returning response object')   \n",
    "        return r\n",
    "        \n",
    "    def post(self, \n",
    "             endpoint, \n",
    "             data, \n",
    "             content_type='application/json'):\n",
    "        \"\"\"POST `data` to `endpoint`in ESCALATE API using `content_type`\n",
    "        return: (dict|requests.Response), bool\n",
    "        \"\"\"\n",
    "        \n",
    "        if not self._is_logged_in:\n",
    "            raise ValueError(\"Not logged in: cannot post\")\n",
    "        \n",
    "        r = requests.api.post(\n",
    "            f'{self.base_url}/api/{endpoint}', \n",
    "            data=json.dumps(data), \n",
    "            headers={**self._token_header,\n",
    "                     'content-type': content_type})\n",
    "        print(r)\n",
    "        if r.ok: \n",
    "            print('POST: OK, returning new resource dict')\n",
    "            return r.json()\n",
    "        print('POST: FAILED, returning response object')\n",
    "        return r\n",
    "    \n",
    "    def put(self, url=None, endpoint=None, resource_id=None, data=None):\n",
    "        \"\"\"Update a complete resource\n",
    "        Either provide a url or an endpoint and resource id\n",
    "        \"\"\"\n",
    "        if not ((url is not None) or (endpoint is not None and resource_id is not None)): \n",
    "            raise ValueError(\"Must specify either url or endpoint and resource_id\")\n",
    "            \n",
    "        if url is None: \n",
    "            url = f'{self.base_url}/api/{endpoint}/{resource_id}' \n",
    "        r = requests.api.put(url, data, headers=self._token_header)\n",
    "        return r\n",
    "    \n",
    "    def patch(self, url=None, endpoint=None, resource_id=None, data=None):\n",
    "        \"\"\"Update parts of a resource\n",
    "        Either provide a url or an endpoint and resource id\n",
    "        \"\"\"\n",
    "        if not ((url is not None) or (endpoint is not None and resource_id is not None)): \n",
    "            raise ValueError(\"Must specify either url or endpoint and resource_id\")\n",
    "            \n",
    "        if url is None: \n",
    "            url = f'{self.base_url}/api/{endpoint}/{resource_id}' \n",
    "        r = requests.api.patch(url, data, headers=self._token_header)\n",
    "        return r\n",
    "        \n",
    "    def delete(self, url=None, endpoint=None, resource_id=None):\n",
    "        \"\"\"Delete a resource\n",
    "         Either provide a url or an endpoint and resource id\n",
    "        \"\"\"\n",
    "        if not ((url is not None) or (endpoint is not None and resource_id is not None)): \n",
    "            raise ValueError(\"Must specify either url or endpoint and resource_id\")\n",
    "        if url is None: \n",
    "            url = f'{self.base_url}/api/{endpoint}/{resource_id}' \n",
    "        r = requests.api.delete(url, headers=self._token_header)\n",
    "        return r\n",
    "    \n",
    "    def search(self, \n",
    "        endpoint='',\n",
    "        related_ep=None, #for cross-searches\n",
    "        search_field='',\n",
    "        criteria= '',\n",
    "        data=None, #must be a list\n",
    "        exact=False,\n",
    "        negate=False,\n",
    "        parse_json=True, \n",
    "        content_type='application/json'):\n",
    "    \n",
    "        if negate==False:\n",
    "\n",
    "            if exact==True:\n",
    "                if data == None:\n",
    "                    '''Returns all fields for exact match'''\n",
    "                    if related_ep == None:\n",
    "\n",
    "                        r = requests.get(f'{self.base_url}/api/{endpoint}/?{search_field}={criteria}', \n",
    "                                     headers={**self._token_header, \n",
    "                                              'content-type': content_type})\n",
    "                    else: #cross-search \n",
    "                        r = requests.get(f'{self.base_url}/api/{endpoint}/?{related_ep}__{search_field}={criteria}', \n",
    "                                     headers={**self._token_header, \n",
    "                                              'content-type': content_type})\n",
    "\n",
    "                else:\n",
    "                    '''Returns requested field(s) for exact match'''\n",
    "                    i=0\n",
    "                    data_string=''\n",
    "                    while i<len(data)-1:\n",
    "                        data_string+=data[i]+','\n",
    "                        i+=1\n",
    "                    data_string+=data[i]\n",
    "\n",
    "                    if related_ep ==None:\n",
    "\n",
    "                        r = requests.get(f'{self.base_url}/api/{endpoint}/?{search_field}={criteria}&fields={data_string}', \n",
    "                                         headers={**self._token_header, \n",
    "                                                  'content-type': content_type}) \n",
    "                    else: #cross-search\n",
    "\n",
    "                        r = requests.get(f'{self.base_url}/api/{endpoint}/?{related_ep}__{search_field}={criteria}&fields={data_string}', \n",
    "                                         headers={**self._token_header, \n",
    "                                                  'content-type': content_type}) \n",
    "\n",
    "            else:\n",
    "\n",
    "\n",
    "                if data == None:\n",
    "                    '''Containment test; returns all fields'''\n",
    "\n",
    "                    if related_ep == None:\n",
    "                        r = requests.get(f'{self.base_url}/api/{endpoint}/?{search_field}__icontains={criteria}', \n",
    "                                         headers={**self._token_header, \n",
    "                                                  'content-type': content_type}) \n",
    "                    else: #cross-search\n",
    "                        r = requests.get(f'{self.base_url}/api/{endpoint}/?{related_ep}__{search_field}__icontains={criteria}', \n",
    "                                         headers={**self._token_header, \n",
    "                                                  'content-type': content_type})\n",
    "\n",
    "                else:\n",
    "                    '''Containment test; returns requested field(s)'''\n",
    "                    i=0\n",
    "                    data_string=''\n",
    "                    while i<len(data)-1:\n",
    "                        data_string+=data[i]+','\n",
    "                        i+=1\n",
    "                    data_string+=data[i]\n",
    "\n",
    "                    if related_ep==None:\n",
    "                        r = requests.get(f'{self.base_url}/api/{endpoint}/?{search_field}__icontains={criteria}&fields={data_string}', \n",
    "                                         headers={**self._token_header, \n",
    "                                                  'content-type': content_type}) \n",
    "                    else: #cross-search\n",
    "                        r = requests.get(f'{self.base_url}/api/{endpoint}/?{related_ep}__{search_field}__icontains={criteria}&fields={data_string}', \n",
    "                                             headers={**self._token_header, \n",
    "                                                      'content-type': content_type})\n",
    "        else:\n",
    "        #negations\n",
    "\n",
    "            if exact==True:\n",
    "                if data == None:\n",
    "                    '''Returns all fields for exact match'''\n",
    "                    if related_ep == None:\n",
    "\n",
    "                        r = requests.get(f'{self.base_url}/api/{endpoint}/?{search_field}!={criteria}', \n",
    "                                     headers={**self._token_header, \n",
    "                                              'content-type': content_type})\n",
    "                    else: #cross-search \n",
    "                        r = requests.get(f'{self.base_url}/api/{endpoint}/?{related_ep}__{search_field}!={criteria}', \n",
    "                                     headers={**self._token_header, \n",
    "                                              'content-type': content_type})\n",
    "\n",
    "                else:\n",
    "                    '''Returns requested field(s) for exact match'''\n",
    "                    i=0\n",
    "                    data_string=''\n",
    "                    while i<len(data)-1:\n",
    "                        data_string+=data[i]+','\n",
    "                        i+=1\n",
    "                    data_string+=data[i]\n",
    "\n",
    "                    if related_ep ==None:\n",
    "\n",
    "                        r = requests.get(f'{self.base_url}/api/{endpoint}/?{search_field}={criteria}&fields!={data_string}', \n",
    "                                         headers={**self._token_header, \n",
    "                                                  'content-type': content_type}) \n",
    "                    else: #cross-search\n",
    "\n",
    "                        r = requests.get(f'{self.base_url}/api/{endpoint}/?{related_ep}__{search_field}!={criteria}&fields={data_string}', \n",
    "                                         headers={**self._token_header, \n",
    "                                                  'content-type': content_type}) \n",
    "\n",
    "            else:\n",
    "\n",
    "\n",
    "                if data == None:\n",
    "                    '''Containment test; returns all fields'''\n",
    "\n",
    "                    if related_ep == None:\n",
    "                        r = requests.get(f'{self.base_url}/api/{endpoint}/?{search_field}__icontains!={criteria}', \n",
    "                                         headers={**self._token_header, \n",
    "                                                  'content-type': content_type}) \n",
    "                    else: #cross-search\n",
    "                        r = requests.get(f'{self.base_url}/api/{endpoint}/?{related_ep}__{search_field}__icontains!={criteria}', \n",
    "                                         headers={**self._token_header, \n",
    "                                                  'content-type': content_type})\n",
    "\n",
    "                else:\n",
    "                    '''Containment test; returns requested field(s)'''\n",
    "                    i=0\n",
    "                    data_string=''\n",
    "                    while i<len(data)-1:\n",
    "                        data_string+=data[i]+','\n",
    "                        i+=1\n",
    "                    data_string+=data[i]\n",
    "\n",
    "                    if related_ep==None:\n",
    "                        r = requests.get(f'{self.base_url}/api/{endpoint}/?{search_field}__icontains!={criteria}&fields={data_string}', \n",
    "                                         headers={**self._token_header, \n",
    "                                                  'content-type': content_type}) \n",
    "                    else: #cross-search\n",
    "                        r = requests.get(f'{self.base_url}/api/{endpoint}/?{related_ep}__{search_field}__icontains!={criteria}', \n",
    "                                             headers={**self._token_header, \n",
    "                                                      'content-type': content_type})                       \n",
    "\n",
    "        if r.ok: \n",
    "            print('GET: OK')\n",
    "        else: \n",
    "            print('GET: FAILED')\n",
    "\n",
    "        if r.ok and parse_json:\n",
    "            resp_json = r.json()        \n",
    "            # handle cases: no vs one vs many results\n",
    "            count = resp_json.get('count')\n",
    "            if count is None or count == 0:\n",
    "                return r.json()\n",
    "            elif count == 1: \n",
    "                print('Found one resource, returning dict')\n",
    "                return resp_json['results'][0]\n",
    "            elif count >= 1: \n",
    "                print(f\"Found {resp_json['count']} resources, returning list of dicts)\")\n",
    "                return r.json()['results']\n",
    "        print('Returning response object')   \n",
    "        return r\n",
    "    \n",
    "    def list_endpoints(self):\n",
    "        return self.get()"
   ]
  },
  {
   "cell_type": "markdown",
   "metadata": {},
   "source": [
    "First import the API Client."
   ]
  },
  {
   "cell_type": "code",
   "execution_count": null,
   "metadata": {},
   "outputs": [],
   "source": [
    "import escalateclient\n",
    "from escalateclient import ESCALATEClient"
   ]
  },
  {
   "cell_type": "markdown",
   "metadata": {},
   "source": [
    "Enter your ESCALATE username and password, and the port number at which the server is running. Then run the following cell. This will create an instance of the API Client and set up a token to interact with the REST API."
   ]
  },
  {
   "cell_type": "code",
   "execution_count": 2,
   "metadata": {},
   "outputs": [],
   "source": [
    "username= 'nsmina'\n",
    "password= 'password11'\n",
    "port='8000'\n",
    "\n",
    "escalate = ESCALATEClient(\n",
    "    f'http://localhost:{port}',\n",
    "    username,\n",
    "    password\n",
    ")"
   ]
  },
  {
   "cell_type": "markdown",
   "metadata": {},
   "source": [
    "To see all the model endpoints (this is also a good way to verify that you are connected):"
   ]
  },
  {
   "cell_type": "code",
   "execution_count": 3,
   "metadata": {},
   "outputs": [
    {
     "name": "stdout",
     "output_type": "stream",
     "text": [
      "GET: OK\n"
     ]
    },
    {
     "data": {
      "text/plain": [
       "{'action': 'http://localhost:8000/api/action/',\n",
       " 'actiondef': 'http://localhost:8000/api/action-def/',\n",
       " 'actionunit': 'http://localhost:8000/api/action-unit/',\n",
       " 'actor': 'http://localhost:8000/api/actor/',\n",
       " 'basebommaterial': 'http://localhost:8000/api/base-bom-material/',\n",
       " 'billofmaterials': 'http://localhost:8000/api/bill-of-materials/',\n",
       " 'bomcompositematerial': 'http://localhost:8000/api/bom-composite-material/',\n",
       " 'bommaterial': 'http://localhost:8000/api/bom-material/',\n",
       " 'calculation': 'http://localhost:8000/api/calculation/',\n",
       " 'calculationdef': 'http://localhost:8000/api/calculation-def/',\n",
       " 'condition': 'http://localhost:8000/api/condition/',\n",
       " 'conditiondef': 'http://localhost:8000/api/condition-def/',\n",
       " 'experiment': 'http://localhost:8000/api/experiment/',\n",
       " 'experimentinstance': 'http://localhost:8000/api/experiment-instance/',\n",
       " 'experimenttemplate': 'http://localhost:8000/api/experiment-template/',\n",
       " 'experimenttype': 'http://localhost:8000/api/experiment-type/',\n",
       " 'experimentworkflow': 'http://localhost:8000/api/experiment-workflow/',\n",
       " 'inventory': 'http://localhost:8000/api/inventory/',\n",
       " 'inventorymaterial': 'http://localhost:8000/api/inventory-material/',\n",
       " 'material': 'http://localhost:8000/api/material/',\n",
       " 'materialidentifier': 'http://localhost:8000/api/material-identifier/',\n",
       " 'materialidentifierdef': 'http://localhost:8000/api/material-identifier-def/',\n",
       " 'materialtype': 'http://localhost:8000/api/material-type/',\n",
       " 'measure': 'http://localhost:8000/api/measure/',\n",
       " 'measuredef': 'http://localhost:8000/api/measure-def/',\n",
       " 'measuretype': 'http://localhost:8000/api/measure-type/',\n",
       " 'mixture': 'http://localhost:8000/api/mixture/',\n",
       " 'organization': 'http://localhost:8000/api/organization/',\n",
       " 'outcome': 'http://localhost:8000/api/outcome/',\n",
       " 'parameterdef': 'http://localhost:8000/api/parameter-def/',\n",
       " 'person': 'http://localhost:8000/api/person/',\n",
       " 'propertydef': 'http://localhost:8000/api/property-def/',\n",
       " 'status': 'http://localhost:8000/api/status/',\n",
       " 'systemtool': 'http://localhost:8000/api/systemtool/',\n",
       " 'systemtooltype': 'http://localhost:8000/api/systemtool-type/',\n",
       " 'tag': 'http://localhost:8000/api/tag/',\n",
       " 'tagtype': 'http://localhost:8000/api/tag-type/',\n",
       " 'typedef': 'http://localhost:8000/api/type-def/',\n",
       " 'udfdef': 'http://localhost:8000/api/udf-def/',\n",
       " 'unittype': 'http://localhost:8000/api/unit-type/',\n",
       " 'vessel': 'http://localhost:8000/api/vessel/',\n",
       " 'workflow': 'http://localhost:8000/api/workflow/',\n",
       " 'workflowactionset': 'http://localhost:8000/api/workflow-action-set/',\n",
       " 'workflowobject': 'http://localhost:8000/api/workflow-object/',\n",
       " 'workflowstep': 'http://localhost:8000/api/workflow-step/',\n",
       " 'workflowtype': 'http://localhost:8000/api/workflow-type/'}"
      ]
     },
     "execution_count": 3,
     "metadata": {},
     "output_type": "execute_result"
    }
   ],
   "source": [
    "escalate.list_endpoints()"
   ]
  },
  {
   "cell_type": "markdown",
   "metadata": {},
   "source": [
    "## Searching the database\n",
    "\n",
    "To search the database for an existing material (or action, or workflow, or any endpoint)... enter the endpoint below. Make sure it is one of the existing endpoints in the database. \n",
    "\n",
    "Choose a field by which to search this database. For instance, you can look up a material by its description (which corresponds to the name of the material). Enter that as well. Then enter your search criteria and whether it is exact (True or False). \n",
    "\n",
    "Suppose that we want to look up Lead Diiodide and return all the exact matches. Note that exact match searches are case-sensitive, so if you did not capitalize the first letter of each word in the name, you would get no results."
   ]
  },
  {
   "cell_type": "code",
   "execution_count": 5,
   "metadata": {},
   "outputs": [
    {
     "name": "stdout",
     "output_type": "stream",
     "text": [
      "GET: OK\n",
      "Found one resource, returning dict\n"
     ]
    },
    {
     "data": {
      "text/plain": [
       "{'url': 'http://localhost:8000/api/material/28fe860b-44ae-4737-9fc9-b1714facc07d/',\n",
       " 'uuid': '28fe860b-44ae-4737-9fc9-b1714facc07d',\n",
       " 'edocs': [],\n",
       " 'tags': [],\n",
       " 'notes': [],\n",
       " 'property': [],\n",
       " 'add_date': '2021-08-31T18:59:22.626532',\n",
       " 'mod_date': '2021-08-31T18:59:22.626551',\n",
       " 'description': 'Lead Diiodide',\n",
       " 'consumable': True,\n",
       " 'material_class': 'model',\n",
       " 'internal_slug': 'lead-diiodide',\n",
       " 'status': 'http://localhost:8000/api/status/0547fd81-cea5-4413-aa50-684c4624a503/',\n",
       " 'actor': None,\n",
       " 'identifier': ['http://localhost:8000/api/material-identifier/125b2798-2216-4f9b-9671-070ede6e1620/',\n",
       "  'http://localhost:8000/api/material-identifier/d240f536-0388-4d48-8678-4ab678b8f226/',\n",
       "  'http://localhost:8000/api/material-identifier/e44f7760-3383-4aa2-b101-d80a8bb4a513/',\n",
       "  'http://localhost:8000/api/material-identifier/b6686937-f3d3-4112-89dd-29e606414166/',\n",
       "  'http://localhost:8000/api/material-identifier/545f1643-f0b8-46ec-83b4-eda59f826b6c/',\n",
       "  'http://localhost:8000/api/material-identifier/83eb17cb-e6da-4ed6-b150-444f8d04f955/'],\n",
       " 'material_type': ['http://localhost:8000/api/material-type/11a353d3-cf68-4816-bd32-e75d21375cb2/',\n",
       "  'http://localhost:8000/api/material-type/52e2ab9f-3561-4ded-8737-4f126d65ae61/']}"
      ]
     },
     "execution_count": 5,
     "metadata": {},
     "output_type": "execute_result"
    }
   ],
   "source": [
    "escalate.search( \n",
    "        endpoint='material', #we are looking in the material database table\n",
    "        related_ep=None,\n",
    "        search_field='description', #we are searching by description\n",
    "        criteria= 'Lead Diiodide', #we want the description of the material to be 'Lead Diiodide'\n",
    "        data=None, \n",
    "        exact=True, #exact matches only\n",
    "        negate=False,\n",
    "        parse_json=True, \n",
    "        content_type='application/json')"
   ]
  },
  {
   "cell_type": "markdown",
   "metadata": {},
   "source": [
    "Note this returns every single field associated with Lead Diiodide. Maybe we just want the url and the description. We would enter these, in list form, as data, and then run our search again."
   ]
  },
  {
   "cell_type": "code",
   "execution_count": 6,
   "metadata": {},
   "outputs": [
    {
     "name": "stdout",
     "output_type": "stream",
     "text": [
      "GET: OK\n",
      "Found one resource, returning dict\n"
     ]
    },
    {
     "data": {
      "text/plain": [
       "{'url': 'http://localhost:8000/api/material/28fe860b-44ae-4737-9fc9-b1714facc07d/',\n",
       " 'description': 'Lead Diiodide'}"
      ]
     },
     "execution_count": 6,
     "metadata": {},
     "output_type": "execute_result"
    }
   ],
   "source": [
    "escalate.search(endpoint='material',\n",
    "        related_ep=None, \n",
    "        search_field='description',\n",
    "        criteria= 'Lead Diiodide',\n",
    "        data=['url', 'description'], #specify the fields for the search to return, in list form\n",
    "        exact=True,\n",
    "        negate=False,\n",
    "        parse_json=True, \n",
    "        content_type='application/json')"
   ]
  },
  {
   "cell_type": "markdown",
   "metadata": {},
   "source": [
    "Suppose we instead want to know how many materials in the inventory contain the word \"lead\" in their names. We would change our criteria, and also change exact to False. Note that the search criteria is no longer case sensitive."
   ]
  },
  {
   "cell_type": "code",
   "execution_count": 7,
   "metadata": {},
   "outputs": [
    {
     "name": "stdout",
     "output_type": "stream",
     "text": [
      "GET: OK\n",
      "Found 3 resources, returning list of dicts)\n"
     ]
    },
    {
     "data": {
      "text/plain": [
       "[{'url': 'http://localhost:8000/api/material/28fe860b-44ae-4737-9fc9-b1714facc07d/',\n",
       "  'description': 'Lead Diiodide'},\n",
       " {'url': 'http://localhost:8000/api/material/dccde9ad-1b5b-4433-af52-412d02362b38/',\n",
       "  'description': 'Lead(II) bromide'},\n",
       " {'url': 'http://localhost:8000/api/material/bdb2b329-6f54-4228-a0f4-c5facb4bc36f/',\n",
       "  'description': 'Lead(II) acetate trihydrate'}]"
      ]
     },
     "execution_count": 7,
     "metadata": {},
     "output_type": "execute_result"
    }
   ],
   "source": [
    "escalate.search(endpoint='material',\n",
    "        related_ep=None, \n",
    "        search_field='description',\n",
    "        criteria= 'lead', #not case-sensitive\n",
    "        data=['url', 'description'], \n",
    "        exact=False, #the search will return anything that contains \"lead\" in the name\n",
    "        negate=False,\n",
    "        parse_json=True, \n",
    "        content_type='application/json')"
   ]
  },
  {
   "cell_type": "markdown",
   "metadata": {},
   "source": [
    "If we want to search by a property other than name, we must do a cross-search within the material-identifier table. Let's demonstrate using the INCHI key for lead diiodide. Note this requires specifying the endpoint of the material identifier table `(related_ep)`."
   ]
  },
  {
   "cell_type": "code",
   "execution_count": 8,
   "metadata": {},
   "outputs": [
    {
     "name": "stdout",
     "output_type": "stream",
     "text": [
      "GET: OK\n",
      "Found one resource, returning dict\n"
     ]
    },
    {
     "data": {
      "text/plain": [
       "{'url': 'http://localhost:8000/api/material/28fe860b-44ae-4737-9fc9-b1714facc07d/',\n",
       " 'description': 'Lead Diiodide'}"
      ]
     },
     "execution_count": 8,
     "metadata": {},
     "output_type": "execute_result"
    }
   ],
   "source": [
    "escalate.search( endpoint='material',\n",
    "        related_ep='identifier', #endpoint of related table in which we are searching \n",
    "        search_field='description',\n",
    "        criteria= 'RQQRAHKHDFPBMC-UHFFFAOYSA-L', #inchi key\n",
    "        data=['url', 'description'],\n",
    "        exact=False,\n",
    "        negate=False,\n",
    "        parse_json=True, \n",
    "        content_type='application/json')"
   ]
  },
  {
   "cell_type": "markdown",
   "metadata": {},
   "source": [
    "Lastly, we have the option to search for all entries within a data table that do NOT contain the specified criteria. Let's demonstrate this using the Action endpoint. Here we find all actions that do not contain the word \"heat\" in their description."
   ]
  },
  {
   "cell_type": "code",
   "execution_count": 9,
   "metadata": {},
   "outputs": [
    {
     "name": "stdout",
     "output_type": "stream",
     "text": [
      "GET: OK\n",
      "Found 184 resources, returning list of dicts)\n"
     ]
    },
    {
     "data": {
      "text/plain": [
       "[{'description': 'Dispense Metal Stock:  -> Sample Prep Plate: Plate well#: B2'},\n",
       " {'description': 'Dispense Resin: Resin -> Resin Plate: Plate well#: A1'},\n",
       " {'description': 'Dispense Resin: Resin -> Resin Plate: Plate well#: A2'},\n",
       " {'description': 'Dispense Resin: Resin -> Resin Plate: Plate well#: A3'},\n",
       " {'description': 'Dispense Resin: Resin -> Resin Plate: Plate well#: A4'},\n",
       " {'description': 'Dispense Resin: Resin -> Resin Plate: Plate well#: A5'},\n",
       " {'description': 'Dispense Resin: Resin -> Resin Plate: Plate well#: A6'},\n",
       " {'description': 'Dispense Resin: Resin -> Resin Plate: Plate well#: B1'},\n",
       " {'description': 'Dispense Resin: Resin -> Resin Plate: Plate well#: B2'},\n",
       " {'description': 'Dispense Sample H2O: H2O -> Sample Prep Plate: Plate well#: A1'},\n",
       " {'description': 'Dispense Sample H2O: H2O -> Sample Prep Plate: Plate well#: A2'},\n",
       " {'description': 'Dispense Sample H2O: H2O -> Sample Prep Plate: Plate well#: A3'},\n",
       " {'description': 'Dispense Sample H2O: H2O -> Sample Prep Plate: Plate well#: A4'},\n",
       " {'description': 'Dispense Sample H2O: H2O -> Sample Prep Plate: Plate well#: A5'},\n",
       " {'description': 'Dispense Sample H2O: H2O -> Sample Prep Plate: Plate well#: A6'},\n",
       " {'description': 'Dispense Sample H2O: H2O -> Sample Prep Plate: Plate well#: B1'},\n",
       " {'description': 'Dispense Sample H2O: H2O ->'},\n",
       " {'description': 'Dispense Sample HCl: HCl-12M -> Sample Prep Plate: Plate well#: A1'},\n",
       " {'description': 'Dispense Sample HCl: HCl-12M -> Sample Prep Plate: Plate well#: A2'},\n",
       " {'description': 'Dispense Sample HCl: HCl-12M -> Sample Prep Plate: Plate well#: A3'},\n",
       " {'description': 'Dispense Sample HCl: HCl-12M -> Sample Prep Plate: Plate well#: A4'},\n",
       " {'description': 'Dispense Sample HCl: HCl-12M -> Sample Prep Plate: Plate well#: A5'},\n",
       " {'description': 'Dispense Sample HCl: HCl-12M -> Sample Prep Plate: Plate well#: A6'},\n",
       " {'description': 'Dispense Sample HCl: HCl-12M -> Sample Prep Plate: Plate well#: B1'},\n",
       " {'description': 'Dispense Sample HCl: HCl-12M -> Sample Prep Plate: Plate well#: B2'},\n",
       " {'description': 'Dispense Metal Stock:  -> Sample Prep Plate: Plate well#: A1'},\n",
       " {'description': 'Dispense Metal Stock:  -> Sample Prep Plate: Plate well#: A2'},\n",
       " {'description': 'Dispense Metal Stock:  -> Sample Prep Plate: Plate well#: A3'},\n",
       " {'description': 'Dispense Metal Stock:  -> Sample Prep Plate: Plate well#: A4'},\n",
       " {'description': 'Dispense Metal Stock:  -> Sample Prep Plate: Plate well#: A5'},\n",
       " {'description': 'Dispense Metal Stock:  -> Sample Prep Plate: Plate well#: A6'},\n",
       " {'description': 'Dispense Metal Stock:  -> Sample Prep Plate: Plate well#: B1'},\n",
       " {'description': 'Transfer Sample for Assay: Sample Prep Plate: Plate well#: A1 -> Assay Sample Plate 1: Plate well#: A1'},\n",
       " {'description': 'Transfer Sample for Assay: Sample Prep Plate: Plate well#: A2 -> Assay Sample Plate 1: Plate well#: A2'},\n",
       " {'description': 'Transfer Sample for Assay: Sample Prep Plate: Plate well#: A3 -> Assay Sample Plate 1: Plate well#: A3'},\n",
       " {'description': 'Dispense Stock A: Stock A Vial -> Plate: Plate well#: D1'},\n",
       " {'description': 'Transfer Sample for Assay: Sample Prep Plate: Plate well#: A4 -> Assay Sample Plate 1: Plate well#: A4'},\n",
       " {'description': 'Transfer Sample for Assay: Sample Prep Plate: Plate well#: A5 -> Assay Sample Plate 1: Plate well#: A5'},\n",
       " {'description': 'Transfer Sample for Assay: Sample Prep Plate: Plate well#: A6 -> Assay Sample Plate 1: Plate well#: A6'},\n",
       " {'description': 'Transfer Sample for Assay: Sample Prep Plate: Plate well#: B1 -> Assay Sample Plate 1: Plate well#: B1'},\n",
       " {'description': 'Transfer Sample for Assay: Sample Prep Plate: Plate well#: B2 -> Assay Sample Plate 1: Plate well#: B2'},\n",
       " {'description': 'Add Resin:  ->'},\n",
       " {'description': 'Sample to Resin: Sample Prep Plate: Plate well#: A1 ->'},\n",
       " {'description': 'Sample to Resin: Sample Prep Plate: Plate well#: A2 ->'},\n",
       " {'description': 'Sample to Resin: Sample Prep Plate: Plate well#: A3 ->'},\n",
       " {'description': 'Sample to Resin: Sample Prep Plate: Plate well#: A4 ->'},\n",
       " {'description': 'Sample to Resin: Sample Prep Plate: Plate well#: A5 ->'},\n",
       " {'description': 'Sample to Resin: Sample Prep Plate: Plate well#: A6 ->'},\n",
       " {'description': 'Sample to Resin: Sample Prep Plate: Plate well#: B1 ->'},\n",
       " {'description': 'Sample to Resin: Sample Prep Plate: Plate well#: B2 ->'},\n",
       " {'description': 'Dispense Solvent: Solvent -> Plate: Plate well#: A1'},\n",
       " {'description': 'Dispense Solvent: Solvent -> Plate: Plate well#: A2'},\n",
       " {'description': 'Dispense Stock A: Stock A -> Plate: Plate well#: A1'},\n",
       " {'description': 'Dispense Stock A: Stock A -> Plate: Plate well#: A2'},\n",
       " {'description': 'Dispense Stock B: Stock B -> Plate: Plate well#: A1'},\n",
       " {'description': 'Dispense Stock B: Stock B -> Plate: Plate well#: A2'},\n",
       " {'description': 'Dispense Acid Vol 1: Acid -> Plate: Plate well#: A1'},\n",
       " {'description': 'Dispense Acid Vol 1: Acid -> Plate: Plate well#: A2'},\n",
       " {'description': 'Dispense Acid Vol 2: Acid -> Plate: Plate well#: A1'},\n",
       " {'description': 'Dispense Acid Vol 2: Acid -> Plate: Plate well#: A2'},\n",
       " {'description': 'Perovskite Demo: Dispense Solvent: Solvent -> Plate: Plate well#: A1'},\n",
       " {'description': 'Perovskite Demo: Dispense Solvent: Solvent -> Plate: Plate well#: A2'},\n",
       " {'description': 'Perovskite Demo: Dispense Solvent: Solvent -> Plate: Plate well#: A3'},\n",
       " {'description': 'Perovskite Demo: Dispense Solvent: Solvent -> Plate: Plate well#: A4'},\n",
       " {'description': 'Perovskite Demo: Dispense Solvent: Solvent -> Plate: Plate well#: A5'},\n",
       " {'description': 'Perovskite Demo: Dispense Solvent: Solvent -> Plate: Plate well#: A6'},\n",
       " {'description': 'Perovskite Demo: Dispense Solvent: Solvent -> Plate: Plate well#: B1'},\n",
       " {'description': 'Perovskite Demo: Dispense Solvent: Solvent -> Plate: Plate well#: B2'},\n",
       " {'description': 'Perovskite Demo: Dispense Solvent: Solvent -> Plate: Plate well#: B3'},\n",
       " {'description': 'Perovskite Demo: Dispense Solvent: Solvent -> Plate: Plate well#: B4'},\n",
       " {'description': 'Perovskite Demo: Dispense Solvent: Solvent -> Plate: Plate well#: B5'},\n",
       " {'description': 'Perovskite Demo: Dispense Solvent: Solvent -> Plate: Plate well#: B6'},\n",
       " {'description': 'Perovskite Demo: Dispense Solvent: Solvent -> Plate: Plate well#: C1'},\n",
       " {'description': 'Perovskite Demo: Dispense Solvent: Solvent -> Plate: Plate well#: C2'},\n",
       " {'description': 'Perovskite Demo: Dispense Solvent: Solvent -> Plate: Plate well#: C3'},\n",
       " {'description': 'Perovskite Demo: Dispense Solvent: Solvent -> Plate: Plate well#: C4'},\n",
       " {'description': 'Perovskite Demo: Dispense Solvent: Solvent -> Plate: Plate well#: C5'},\n",
       " {'description': 'Perovskite Demo: Dispense Solvent: Solvent -> Plate: Plate well#: C6'},\n",
       " {'description': 'Perovskite Demo: Dispense Solvent: Solvent -> Plate: Plate well#: D1'},\n",
       " {'description': 'Perovskite Demo: Dispense Solvent: Solvent -> Plate: Plate well#: D2'},\n",
       " {'description': 'Perovskite Demo: Dispense Solvent: Solvent -> Plate: Plate well#: D3'},\n",
       " {'description': 'Perovskite Demo: Dispense Solvent: Solvent -> Plate: Plate well#: D4'},\n",
       " {'description': 'Perovskite Demo: Dispense Solvent: Solvent -> Plate: Plate well#: D5'},\n",
       " {'description': 'Perovskite Demo: Dispense Solvent: Solvent -> Plate: Plate well#: D6'},\n",
       " {'description': 'Dispense Stock A: Stock A Vial -> Plate: Plate well#: A1'},\n",
       " {'description': 'Dispense Stock A: Stock A Vial -> Plate: Plate well#: A2'},\n",
       " {'description': 'Dispense Stock A: Stock A Vial -> Plate: Plate well#: A3'},\n",
       " {'description': 'Dispense Stock A: Stock A Vial -> Plate: Plate well#: A4'},\n",
       " {'description': 'Dispense Stock A: Stock A Vial -> Plate: Plate well#: A5'},\n",
       " {'description': 'Dispense Stock A: Stock A Vial -> Plate: Plate well#: A6'},\n",
       " {'description': 'Dispense Stock A: Stock A Vial -> Plate: Plate well#: B1'},\n",
       " {'description': 'Dispense Stock A: Stock A Vial -> Plate: Plate well#: B2'},\n",
       " {'description': 'Dispense Stock A: Stock A Vial -> Plate: Plate well#: B3'},\n",
       " {'description': 'Dispense Stock A: Stock A Vial -> Plate: Plate well#: B4'},\n",
       " {'description': 'Dispense Stock A: Stock A Vial -> Plate: Plate well#: B5'},\n",
       " {'description': 'Dispense Stock A: Stock A Vial -> Plate: Plate well#: B6'},\n",
       " {'description': 'Dispense Stock A: Stock A Vial -> Plate: Plate well#: C1'},\n",
       " {'description': 'Dispense Stock A: Stock A Vial -> Plate: Plate well#: C2'},\n",
       " {'description': 'Dispense Stock A: Stock A Vial -> Plate: Plate well#: C3'},\n",
       " {'description': 'Dispense Stock A: Stock A Vial -> Plate: Plate well#: C4'}]"
      ]
     },
     "execution_count": 9,
     "metadata": {},
     "output_type": "execute_result"
    }
   ],
   "source": [
    "escalate.search( \n",
    "        endpoint='action',\n",
    "        related_ep=None, \n",
    "        search_field='description',\n",
    "        criteria= 'heat',\n",
    "        data=['description'], #let's return the descriptions only, for readability\n",
    "        exact=False,\n",
    "        negate=True, #this makes the search return everything that DOES NOT contain 'heat'\n",
    "        parse_json=True, \n",
    "        content_type='application/json')"
   ]
  },
  {
   "cell_type": "markdown",
   "metadata": {},
   "source": [
    "#### GET - for simple, fast searches\n",
    "\n",
    "Alternatively, for simple searches where we might not want to worry about setting all the filters, we can just use `Get`. It takes an endpoint, search field, criteria, and a list of data fields to return"
   ]
  },
  {
   "cell_type": "code",
   "execution_count": 10,
   "metadata": {},
   "outputs": [
    {
     "name": "stdout",
     "output_type": "stream",
     "text": [
      "GET: OK\n",
      "Found one resource, returning dict\n"
     ]
    },
    {
     "data": {
      "text/plain": [
       "{'url': 'http://localhost:8000/api/material/597e1e3d-aea7-4f62-8636-9863ee4f86cf/',\n",
       " 'description': 'Formic Acid'}"
      ]
     },
     "execution_count": 10,
     "metadata": {},
     "output_type": "execute_result"
    }
   ],
   "source": [
    "escalate.get(endpoint='material',\n",
    "            data={'description': 'Formic Acid', #data={search field: criteria\n",
    "                  'fields': ['url', 'description']}) #,fields to return}"
   ]
  },
  {
   "cell_type": "markdown",
   "metadata": {},
   "source": [
    "## Posting new data\n",
    "\n",
    "To add a new material to the inventory, we use `Post`. For this function, the data is entered as a dictionary, with keys corresponding to field names and items corresponding to the entries of those fields. You can choose which fields to fill in data for. \n",
    "\n",
    "Let's post ammonium iodide, NH4. We will populate the description, material class, and the fact that it is consumable."
   ]
  },
  {
   "cell_type": "code",
   "execution_count": null,
   "metadata": {},
   "outputs": [],
   "source": [
    "r= escalate.post(endpoint='material/', \n",
    "              data={'description': 'Ammonium Iodide', \n",
    "                    'material_class': 'model',\n",
    "                    'consumable': True} \n",
    "                     )\n",
    "\n",
    "r"
   ]
  },
  {
   "cell_type": "markdown",
   "metadata": {},
   "source": [
    "Suppose we accidentally run the above cell twice - this will duplicate the ammonium iodide entry in the materials inventory. We can then make use of `delete` to remove one of the entries - we simply pass in the argument of the url of the entry that we want to remove:"
   ]
  },
  {
   "cell_type": "code",
   "execution_count": null,
   "metadata": {},
   "outputs": [],
   "source": [
    "escalate.delete(r['url'])"
   ]
  },
  {
   "cell_type": "code",
   "execution_count": null,
   "metadata": {},
   "outputs": [],
   "source": [
    "#re-run this cell if you deleted the entry, so that NH4I exists (once) in the inventory for purposes of the rest of the demo\n",
    "\n",
    "escalate.post(endpoint='material/', \n",
    "              data={'description': 'Ammonium Iodide', \n",
    "                    'material_class': 'model',\n",
    "                    'consumable': True} \n",
    "                     )"
   ]
  },
  {
   "cell_type": "markdown",
   "metadata": {},
   "source": [
    "## Associating data across tables\n",
    "\n",
    "For a new entry that we post, we might want to also add identifiers like the chemical formula and/or the INCHI key to the material_identifiers table, so that the entry is more complete and it's easier to find in future searches.\n",
    "\n",
    "First we have to find the descriptions of these identifiers."
   ]
  },
  {
   "cell_type": "code",
   "execution_count": 16,
   "metadata": {},
   "outputs": [
    {
     "name": "stdout",
     "output_type": "stream",
     "text": [
      "GET: OK\n",
      "Found one resource, returning dict\n",
      "GET: OK\n",
      "Found one resource, returning dict\n"
     ]
    },
    {
     "data": {
      "text/plain": [
       "{'InChIKey': 'http://localhost:8000/api/material-identifier-def/881e02c5-36ec-4034-8a1e-15be1bb9f45f/',\n",
       " 'Molecular_Formula': 'http://localhost:8000/api/material-identifier-def/8e312939-ddc4-4bfa-b1a6-d90d1d5f4feb/'}"
      ]
     },
     "execution_count": 16,
     "metadata": {},
     "output_type": "execute_result"
    }
   ],
   "source": [
    "ids = {'InChIKey': 'UKFWSNCTAHXBQN-UHFFFAOYSA-N', 'Molecular_Formula': 'NH4I'}\n",
    "\n",
    "def_urls={}\n",
    "\n",
    "#use a loop to search for all the identifiers at once, and then store all their URLs in a dictionary\n",
    "\n",
    "for i in ids.keys():\n",
    "    r = escalate.get(endpoint='material-identifier-def',\n",
    "                     data={'description': i, #data={search field: criteria\n",
    "                      'fields': ['url']}) #,fields to return}\n",
    "    def_urls[i]=r['url']\n",
    "    \n",
    "def_urls"
   ]
  },
  {
   "cell_type": "markdown",
   "metadata": {},
   "source": [
    "Now we have a dictionary containing the urls of the material identifier definitions that we want to associate with our specific material, Ammonium Iodide. We have to create instances of each of these definitions. The endpoint is material-identifier."
   ]
  },
  {
   "cell_type": "code",
   "execution_count": 18,
   "metadata": {},
   "outputs": [
    {
     "name": "stdout",
     "output_type": "stream",
     "text": [
      "<Response [201]>\n",
      "POST: OK, returning new resource dict\n",
      "<Response [201]>\n",
      "POST: OK, returning new resource dict\n"
     ]
    }
   ],
   "source": [
    "for key,val in def_urls.items():\n",
    "    escalate.post(endpoint='material-identifier/', \n",
    "                  data={'description': ids[key], \n",
    "                        'material_identifier_def': val} \n",
    "                         )"
   ]
  },
  {
   "cell_type": "markdown",
   "metadata": {},
   "source": [
    "Let's check if this worked."
   ]
  },
  {
   "cell_type": "code",
   "execution_count": 24,
   "metadata": {},
   "outputs": [
    {
     "name": "stdout",
     "output_type": "stream",
     "text": [
      "GET: OK\n",
      "Found one resource, returning dict\n",
      "{'url': 'http://localhost:8000/api/material-identifier/a45582ee-9dac-42c3-be0a-94a2eaa3c7ed/', 'description': 'UKFWSNCTAHXBQN-UHFFFAOYSA-N'}\n",
      "GET: OK\n",
      "Found one resource, returning dict\n",
      "{'url': 'http://localhost:8000/api/material-identifier/e03bb825-b43e-42ed-97b4-614154cfc30f/', 'description': 'NH4I'}\n"
     ]
    }
   ],
   "source": [
    "id_urls={}\n",
    "\n",
    "for key, val in ids.items():    #loop across the list containing the material identifier descriptions we just posted\n",
    "    \n",
    "    r = escalate.get(endpoint='material-identifier',\n",
    "                         data={'description': val, \n",
    "                          'fields': ['description', 'url']})\n",
    "    id_urls[key] = r['url']\n",
    "    \n",
    "    print(r)\n"
   ]
  },
  {
   "cell_type": "code",
   "execution_count": 25,
   "metadata": {},
   "outputs": [
    {
     "data": {
      "text/plain": [
       "{'InChIKey': 'http://localhost:8000/api/material-identifier/a45582ee-9dac-42c3-be0a-94a2eaa3c7ed/',\n",
       " 'Molecular_Formula': 'http://localhost:8000/api/material-identifier/e03bb825-b43e-42ed-97b4-614154cfc30f/'}"
      ]
     },
     "execution_count": 25,
     "metadata": {},
     "output_type": "execute_result"
    }
   ],
   "source": [
    "id_urls"
   ]
  },
  {
   "cell_type": "markdown",
   "metadata": {},
   "source": [
    "Success! And if we were to navigate to each url, we'd see an associated material identifier definition url. So for our instance of the molecular formula, there is the url that corresponds to the material identifier definition for molecular formula.\n",
    "\n",
    "Lastly, we need to associate each of these identifiers with the material (at the material endpoint). To do so, we use `Patch`, which will update the identifier field of our material entry."
   ]
  },
  {
   "cell_type": "code",
   "execution_count": 27,
   "metadata": {},
   "outputs": [
    {
     "name": "stdout",
     "output_type": "stream",
     "text": [
      "GET: OK\n",
      "Found one resource, returning dict\n"
     ]
    },
    {
     "data": {
      "text/plain": [
       "'http://localhost:8000/api/material/d240c1f3-4f71-41b7-922b-370abe60e710/'"
      ]
     },
     "execution_count": 27,
     "metadata": {},
     "output_type": "execute_result"
    }
   ],
   "source": [
    "#obtain url for the material using Get\n",
    "mat_url = escalate.get(endpoint='material',\n",
    "            data={'description': 'Ammonium Iodide', \n",
    "                  'fields': ['url', 'description']})['url']\n",
    "\n",
    "mat_url"
   ]
  },
  {
   "cell_type": "code",
   "execution_count": 34,
   "metadata": {},
   "outputs": [
    {
     "name": "stdout",
     "output_type": "stream",
     "text": [
      "<Response [200]>\n",
      "<Response [200]>\n"
     ]
    }
   ],
   "source": [
    "for val in id_urls.values():\n",
    "    r = escalate.patch(url=mat_url, \n",
    "                 data={'identifier': val                 \n",
    "                      })\n",
    "    print(r)"
   ]
  },
  {
   "cell_type": "markdown",
   "metadata": {},
   "source": [
    "**issue: as of now, each patch request overwrites the previous one**"
   ]
  }
 ],
 "metadata": {
  "kernelspec": {
   "display_name": "Python 3",
   "language": "python",
   "name": "python3"
  },
  "language_info": {
   "codemirror_mode": {
    "name": "ipython",
    "version": 3
   },
   "file_extension": ".py",
   "mimetype": "text/x-python",
   "name": "python",
   "nbconvert_exporter": "python",
   "pygments_lexer": "ipython3",
   "version": "3.7.4"
  }
 },
 "nbformat": 4,
 "nbformat_minor": 5
}
