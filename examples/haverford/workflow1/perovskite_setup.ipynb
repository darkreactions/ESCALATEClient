{
 "cells": [
  {
   "cell_type": "markdown",
   "metadata": {},
   "source": [
    "## Perovskite Workflow 1 Client setup"
   ]
  },
  {
   "cell_type": "code",
   "execution_count": 1,
   "metadata": {},
   "outputs": [],
   "source": [
    "import os\n",
    "import sys\n",
    "module_path = os.path.abspath(os.path.join('../../../'))\n",
    "if module_path not in sys.path:\n",
    "    sys.path.append(module_path)\n",
    "import escalateclient\n",
    "import importlib"
   ]
  },
  {
   "cell_type": "code",
   "execution_count": 2,
   "metadata": {},
   "outputs": [],
   "source": [
    "importlib.reload(escalateclient)\n",
    "server_url = 'http://localhost:8000'\n",
    "username = 'vshekar'\n",
    "password = 'copperhead123'\n",
    "client = escalateclient.ESCALATEClient(server_url, username, password)"
   ]
  },
  {
   "cell_type": "code",
   "execution_count": 7,
   "metadata": {},
   "outputs": [
    {
     "name": "stdout",
     "output_type": "stream",
     "text": [
      "{'description': 'Haverford College', 'person__isnull': True, 'systemtool__isnull': True}\n",
      "http://localhost:8000/api/actor/?description=Haverford+College&person__isnull=True&systemtool__isnull=True\n",
      "GET: OK. Found 1 results\n"
     ]
    }
   ],
   "source": [
    "# Get the Haverford college lab\n",
    "haverford_lab_response = client.get(endpoint='actor', data={'description': 'Haverford College', 'person__isnull': True, 'systemtool__isnull': True})[0]"
   ]
  },
  {
   "cell_type": "markdown",
   "metadata": {},
   "source": [
    "## Creating a template\n",
    "First, we specify a name and create and entry for a template"
   ]
  },
  {
   "cell_type": "code",
   "execution_count": 8,
   "metadata": {},
   "outputs": [
    {
     "name": "stdout",
     "output_type": "stream",
     "text": [
      "{'description': 'Workflow 1', 'ref_id': 'workflow_1', 'lab': '635bc678-5f2a-4220-b21e-505d86154283'}\n",
      "http://localhost:8000/api/experiment-template/?description=Workflow+1&ref_id=workflow_1&lab=635bc678-5f2a-4220-b21e-505d86154283\n",
      "GET: OK. Found 1 results\n"
     ]
    }
   ],
   "source": [
    "template_response = client.get_or_create(endpoint='experiment-template', data={'description': 'Workflow 1', 'ref_id': 'workflow_1', 'lab': haverford_lab_response['url']})[0]"
   ]
  },
  {
   "cell_type": "markdown",
   "metadata": {},
   "source": [
    "Then we specify templates for reagents that will be used in the experiment. A reagent template requires a name and type(s) of chemicals associated with that reagent.\n",
    "For the Workflow 1 template, and example of a reagent name is \"Reagent 1 - Solvent\" and it's chemical type is \"solvent\". Note that reagent name can be any arbitrary string but the chemical type must exist in the escalate system prior to specifying the reagent template."
   ]
  },
  {
   "cell_type": "markdown",
   "metadata": {},
   "source": [
    "### Specifying Reagent 1"
   ]
  },
  {
   "cell_type": "code",
   "execution_count": 3,
   "metadata": {},
   "outputs": [
    {
     "name": "stdout",
     "output_type": "stream",
     "text": [
      "{'description': 'Reagent 1 - Solvent'}\n",
      "http://localhost:8000/api/reagent-template/?description=Reagent+1+-+Solvent\n",
      "GET: OK. Found 1 results\n",
      "{'description': 'solvent'}\n",
      "http://localhost:8000/api/material-type/?description=solvent\n",
      "GET: OK. Found 1 results\n",
      "{'description': 'Reagent 1 - Solvent: solvent', 'reagent_template': '6a06ebf6-b72a-45c3-9e50-d4fafe6d2577', 'material_type': '72170fe7-c7bf-4dd8-a90c-d0db9404e368'}\n",
      "http://localhost:8000/api/reagent-material-template/?description=Reagent+1+-+Solvent%3A+solvent&reagent_template=6a06ebf6-b72a-45c3-9e50-d4fafe6d2577&material_type=72170fe7-c7bf-4dd8-a90c-d0db9404e368\n",
      "GET: OK. Found 1 results\n"
     ]
    }
   ],
   "source": [
    "# Create the reagent template. \n",
    "reagent_template_data = {\"description\": \"Reagent 1 - Solvent\"}\n",
    "reagent_1_response = client.get_or_create(endpoint='reagent-template', data=reagent_template_data)[0]\n",
    "\n",
    "# Types of chemicals in reagent. \n",
    "chemical_type_data = {\"description\": \"solvent\"}\n",
    "chemical_type_response = client.get_or_create(endpoint='material-type', data=chemical_type_data)[0]\n",
    "\n",
    "# Associate the chemical type with the reagent. A reagent can have multiple chemicals with different types. In this case there is only 1 solvent\n",
    "reagent_material_data = {\"description\": \"Reagent 1 - Solvent: solvent\", \"reagent_template\": reagent_1_response['url'], \"material_type\": chemical_type_response['url']}\n",
    "reagent_material_1_response = client.get_or_create(endpoint='reagent-material-template', data=reagent_material_data)"
   ]
  },
  {
   "cell_type": "markdown",
   "metadata": {},
   "source": [
    "## Specifying multiple reagents\n",
    "Usually an experiment has multiple reagents, Escalate client provides a convenience function to add multiple reagent templates "
   ]
  },
  {
   "cell_type": "code",
   "execution_count": 3,
   "metadata": {},
   "outputs": [
    {
     "name": "stdout",
     "output_type": "stream",
     "text": [
      "{'description': 'Reagent 1 - Solvent'}\n",
      "http://localhost:8000/api/reagent-template/?description=Reagent+1+-+Solvent\n",
      "GET: OK. Found 1 results\n",
      "{'description': 'solvent'}\n",
      "http://localhost:8000/api/material-type/?description=solvent\n",
      "GET: OK. Found 1 results\n",
      "{'description': 'Reagent 1 - Solvent: solvent', 'reagent_template': '6a06ebf6-b72a-45c3-9e50-d4fafe6d2577', 'material_type': '72170fe7-c7bf-4dd8-a90c-d0db9404e368'}\n",
      "http://localhost:8000/api/reagent-material-template/?description=Reagent+1+-+Solvent%3A+solvent&reagent_template=6a06ebf6-b72a-45c3-9e50-d4fafe6d2577&material_type=72170fe7-c7bf-4dd8-a90c-d0db9404e368\n",
      "GET: OK. Found 1 results\n",
      "{'description': 'Reagent 2 - Stock A'}\n",
      "http://localhost:8000/api/reagent-template/?description=Reagent+2+-+Stock+A\n",
      "GET: OK. Found 1 results\n",
      "{'description': 'organic'}\n",
      "http://localhost:8000/api/material-type/?description=organic\n",
      "GET: OK. Found 1 results\n",
      "{'description': 'Reagent 2 - Stock A: organic', 'reagent_template': '263ec3d8-30a2-4a4b-8623-e282899f6be5', 'material_type': '73da2154-d41b-422a-8ae8-98759dfda6f5'}\n",
      "http://localhost:8000/api/reagent-material-template/?description=Reagent+2+-+Stock+A%3A+organic&reagent_template=263ec3d8-30a2-4a4b-8623-e282899f6be5&material_type=73da2154-d41b-422a-8ae8-98759dfda6f5\n",
      "GET: OK. Found 1 results\n",
      "{'description': 'solvent'}\n",
      "http://localhost:8000/api/material-type/?description=solvent\n",
      "GET: OK. Found 1 results\n",
      "{'description': 'Reagent 2 - Stock A: solvent', 'reagent_template': '263ec3d8-30a2-4a4b-8623-e282899f6be5', 'material_type': '72170fe7-c7bf-4dd8-a90c-d0db9404e368'}\n",
      "http://localhost:8000/api/reagent-material-template/?description=Reagent+2+-+Stock+A%3A+solvent&reagent_template=263ec3d8-30a2-4a4b-8623-e282899f6be5&material_type=72170fe7-c7bf-4dd8-a90c-d0db9404e368\n",
      "GET: OK. Found 1 results\n",
      "{'description': 'Reagent 3 - Stock B'}\n",
      "http://localhost:8000/api/reagent-template/?description=Reagent+3+-+Stock+B\n",
      "GET: OK. Found 1 results\n",
      "{'description': 'inorganic'}\n",
      "http://localhost:8000/api/material-type/?description=inorganic\n",
      "GET: OK. Found 1 results\n",
      "{'description': 'Reagent 3 - Stock B: inorganic', 'reagent_template': '607d7a6a-26e3-4b80-b10a-eec4428bd7e4', 'material_type': 'd95c6b6e-a042-4c4b-bebf-f9f966e3239e'}\n",
      "http://localhost:8000/api/reagent-material-template/?description=Reagent+3+-+Stock+B%3A+inorganic&reagent_template=607d7a6a-26e3-4b80-b10a-eec4428bd7e4&material_type=d95c6b6e-a042-4c4b-bebf-f9f966e3239e\n",
      "GET: OK. Found 1 results\n",
      "{'description': 'organic'}\n",
      "http://localhost:8000/api/material-type/?description=organic\n",
      "GET: OK. Found 1 results\n",
      "{'description': 'Reagent 3 - Stock B: organic', 'reagent_template': '607d7a6a-26e3-4b80-b10a-eec4428bd7e4', 'material_type': '73da2154-d41b-422a-8ae8-98759dfda6f5'}\n",
      "http://localhost:8000/api/reagent-material-template/?description=Reagent+3+-+Stock+B%3A+organic&reagent_template=607d7a6a-26e3-4b80-b10a-eec4428bd7e4&material_type=73da2154-d41b-422a-8ae8-98759dfda6f5\n",
      "GET: OK. Found 1 results\n",
      "{'description': 'solvent'}\n",
      "http://localhost:8000/api/material-type/?description=solvent\n",
      "GET: OK. Found 1 results\n",
      "{'description': 'Reagent 3 - Stock B: solvent', 'reagent_template': '607d7a6a-26e3-4b80-b10a-eec4428bd7e4', 'material_type': '72170fe7-c7bf-4dd8-a90c-d0db9404e368'}\n",
      "http://localhost:8000/api/reagent-material-template/?description=Reagent+3+-+Stock+B%3A+solvent&reagent_template=607d7a6a-26e3-4b80-b10a-eec4428bd7e4&material_type=72170fe7-c7bf-4dd8-a90c-d0db9404e368\n",
      "GET: OK. Found 1 results\n",
      "{'description': 'Reagent 7 - Acid'}\n",
      "http://localhost:8000/api/reagent-template/?description=Reagent+7+-+Acid\n",
      "GET: OK. Found 1 results\n",
      "{'description': 'acid'}\n",
      "http://localhost:8000/api/material-type/?description=acid\n",
      "GET: OK. Found 1 results\n",
      "{'description': 'Reagent 7 - Acid: acid', 'reagent_template': '997360c4-ccfb-40cb-ac33-064f37cb043c', 'material_type': '46ff92fa-334d-4000-b575-ce27cde485c8'}\n",
      "http://localhost:8000/api/reagent-material-template/?description=Reagent+7+-+Acid%3A+acid&reagent_template=997360c4-ccfb-40cb-ac33-064f37cb043c&material_type=46ff92fa-334d-4000-b575-ce27cde485c8\n",
      "GET: OK. Found 1 results\n"
     ]
    }
   ],
   "source": [
    "# Reagent templates can be defined as a dictionary of reagent template name as keys and a list of chemical types as value\n",
    "# If the chemical type does not exist, it is automatically created \n",
    "reagent_templates = {\n",
    "            \"Reagent 1 - Solvent\": [\"solvent\"],\n",
    "            \"Reagent 2 - Stock A\": [\"organic\", \"solvent\"],\n",
    "            \"Reagent 3 - Stock B\": [\"inorganic\", \"organic\", \"solvent\"],\n",
    "            \"Reagent 7 - Acid\": [\"acid\"],\n",
    "        }\n",
    "\n",
    "reagent_template_responses = client.create_reagent_templates(data=reagent_templates)"
   ]
  },
  {
   "cell_type": "markdown",
   "metadata": {},
   "source": [
    "## Default values\n",
    "We can associate certain templates with default values. These values are used to automatically pre-populate values, their types and measurement units.\n",
    "For example, here we create a \"Zero ml\" default value that is used to pre-populates liquid chemical reagent volumes with the value \"0 milliliters\""
   ]
  },
  {
   "cell_type": "code",
   "execution_count": 4,
   "metadata": {},
   "outputs": [
    {
     "name": "stdout",
     "output_type": "stream",
     "text": [
      "{'description': 'Zero ml'}\n",
      "http://localhost:8000/api/default-values/?description=Zero+ml\n",
      "GET: OK. Found 12 results\n"
     ]
    }
   ],
   "source": [
    "volume_value = {\"value\": 0, \"unit\": \"ml\", \"type\": \"num\"}\n",
    "zero_ml_data = {\"description\": \"Zero ml\", \"nominal_value\": volume_value, \"actual_value\": volume_value,}\n",
    "zero_ml_response = client.get_or_create(endpoint='default-values', data=zero_ml_data)[0]"
   ]
  },
  {
   "cell_type": "markdown",
   "metadata": {},
   "source": [
    "## Properties of Reagents and Reagent Materials\n",
    "One can associate properties and values to reagents as well as materials within a reagent. For example, we can capture the total volume and dead volume for 'Reagent 1 - Solvent' and separately capture values such as concentration and amount for each chemical component in the reagent. In the case of 'Reagent 1 - Solvent' we only have 1 component of type solvent"
   ]
  },
  {
   "cell_type": "code",
   "execution_count": 5,
   "metadata": {},
   "outputs": [
    {
     "name": "stdout",
     "output_type": "stream",
     "text": [
      "{'description': 'total volume', 'property_def_class': 'extrinsic', 'short_description': 'volume', 'default_value': '2318afaa-62d3-4d1c-965f-be918c10cf05'}\n",
      "http://localhost:8000/api/property-template/?description=total+volume&property_def_class=extrinsic&short_description=volume&default_value=2318afaa-62d3-4d1c-965f-be918c10cf05\n",
      "GET: OK. Found 1 results\n",
      "{'description': 'dead volume', 'property_def_class': 'extrinsic', 'short_description': 'dead volume', 'default_value': '2318afaa-62d3-4d1c-965f-be918c10cf05'}\n",
      "http://localhost:8000/api/property-template/?description=dead+volume&property_def_class=extrinsic&short_description=dead+volume&default_value=2318afaa-62d3-4d1c-965f-be918c10cf05\n",
      "GET: OK. Found 1 results\n",
      "Status 200: OK\n"
     ]
    },
    {
     "data": {
      "text/plain": [
       "{'url': 'http://localhost:8000/api/reagent-template/6a06ebf6-b72a-45c3-9e50-d4fafe6d2577/',\n",
       " 'uuid': '6a06ebf6-b72a-45c3-9e50-d4fafe6d2577',\n",
       " 'edocs': [],\n",
       " 'tags': [],\n",
       " 'notes': [],\n",
       " 'add_date': '2022-02-17T18:00:10.221478',\n",
       " 'mod_date': '2022-02-23T03:00:48.056753',\n",
       " 'description': 'Reagent 1 - Solvent',\n",
       " 'internal_slug': 'reagent-1-solvent',\n",
       " 'status': None,\n",
       " 'properties': ['http://localhost:8000/api/property-template/6f5dae35-4b20-4eb0-aa00-352a4eae132c/',\n",
       "  'http://localhost:8000/api/property-template/d0dd104e-a95f-453a-bf74-8a38b1702762/']}"
      ]
     },
     "execution_count": 5,
     "metadata": {},
     "output_type": "execute_result"
    }
   ],
   "source": [
    "# Defining Reagent Template properties of total reagent volume and dead volume and associate a default volume\n",
    "total_volume_prop_template_data  = {\n",
    "                \"description\": \"total volume\",\n",
    "                \"property_def_class\": \"extrinsic\",\n",
    "                \"short_description\": \"volume\",\n",
    "                \"default_value\": zero_ml_response['url'],\n",
    "            }\n",
    "total_volume_prop_template = client.get_or_create(endpoint='property-template', data=total_volume_prop_template_data)[0]\n",
    "\n",
    "dead_volume_prop_template_data = {\n",
    "                \"description\": \"dead volume\",\n",
    "                \"property_def_class\": \"extrinsic\",\n",
    "                \"short_description\": \"dead volume\",\n",
    "                \"default_value\": zero_ml_response['url'],\n",
    "            }\n",
    "dead_volume_prop_template = client.get_or_create(endpoint='property-template', data=dead_volume_prop_template_data)[0]\n",
    "\n",
    "# Assigning total volume and dead volume properties to \"Reagent 1 - Solvent\"\n",
    "data = {'properties':[total_volume_prop_template['url'], dead_volume_prop_template['url']]}\n",
    "client.patch(endpoint='reagent-template', resource_id=reagent_template_responses['Reagent 1 - Solvent']['uuid'] ,data=data)"
   ]
  },
  {
   "cell_type": "code",
   "execution_count": 14,
   "metadata": {},
   "outputs": [
    {
     "name": "stdout",
     "output_type": "stream",
     "text": [
      "{}\n",
      "http://localhost:8000/api/reagent-template/6a06ebf6-b72a-45c3-9e50-d4fafe6d2577/reagent-material-template/\n",
      "GET: OK. Found 1 results\n",
      "{'description': 'Zero M'}\n",
      "http://localhost:8000/api/default-values/?description=Zero+M\n",
      "GET: OK. Found 1 results\n",
      "{'description': 'Zero g'}\n",
      "http://localhost:8000/api/default-values/?description=Zero+g\n",
      "GET: OK. Found 1 results\n",
      "{'description': 'concentration', 'reagent_material_template': '25987ad6-3728-4691-a5bc-77fc051af132', 'default_value': '564f3a82-6395-4516-a6ac-8bf9d82898ea'}\n",
      "http://localhost:8000/api/reagent-material-value-template/?description=concentration&reagent_material_template=25987ad6-3728-4691-a5bc-77fc051af132&default_value=564f3a82-6395-4516-a6ac-8bf9d82898ea\n",
      "GET: OK. Found 1 results\n",
      "{'description': 'amount', 'reagent_material_template': '25987ad6-3728-4691-a5bc-77fc051af132', 'default_value': 'b8fcdb40-9879-40f6-a71d-10eda9a84fe6'}\n",
      "http://localhost:8000/api/reagent-material-value-template/?description=amount&reagent_material_template=25987ad6-3728-4691-a5bc-77fc051af132&default_value=b8fcdb40-9879-40f6-a71d-10eda9a84fe6\n",
      "GET: OK. Found 1 results\n"
     ]
    },
    {
     "data": {
      "text/plain": [
       "[{'url': 'http://localhost:8000/api/reagent-material-value-template/64fcd2c3-2089-4454-b96a-64447b61dae6/',\n",
       "  'uuid': '64fcd2c3-2089-4454-b96a-64447b61dae6',\n",
       "  'edocs': [],\n",
       "  'tags': [],\n",
       "  'notes': [],\n",
       "  'add_date': '2022-02-17T18:00:10.243081',\n",
       "  'mod_date': '2022-02-17T18:00:10.243091',\n",
       "  'description': 'amount',\n",
       "  'status': None,\n",
       "  'reagent_material_template': 'http://localhost:8000/api/reagent-material-template/25987ad6-3728-4691-a5bc-77fc051af132/',\n",
       "  'default_value': 'http://localhost:8000/api/default-values/b8fcdb40-9879-40f6-a71d-10eda9a84fe6/'}]"
      ]
     },
     "execution_count": 14,
     "metadata": {},
     "output_type": "execute_result"
    }
   ],
   "source": [
    "# Get chemical\n",
    "reagent_1_solvent = client.get(endpoint='reagent-template', \n",
    "                               resource_id=reagent_template_responses['Reagent 1 - Solvent']['uuid'], \n",
    "                               related_endpoint='reagent-material-template')[0]\n",
    "# Default values\n",
    "zero_conc_value = {\"value\": 0, \"unit\": \"M\", \"type\": \"num\"}\n",
    "zero_conc_data = {\"description\": \"Zero M\", \"nominal_value\": zero_conc_value, \"actual_value\": zero_conc_value,}\n",
    "zero_conc_response = client.get_or_create(endpoint='default-values', data=zero_conc_data)[0]\n",
    "\n",
    "zero_g_value = {\"value\": 0, \"unit\": \"g\", \"type\": \"num\"}\n",
    "zero_g_data = {\"description\": \"Zero g\", \"nominal_value\": zero_g_value, \"actual_value\": zero_g_value,}\n",
    "zero_g_response = client.get_or_create(endpoint='default-values', data=zero_g_data)[0]\n",
    "\n",
    "# Add concentration\n",
    "data = {\"description\": \"concentration\",\n",
    "        \"reagent_material_template\": reagent_1_solvent['url'], # Associating it with solvent material\n",
    "        \"default_value\": zero_conc_response['url']}\n",
    "\n",
    "client.get_or_create('reagent-material-value-template', data=data)\n",
    "\n",
    "# Add amounts\n",
    "data = {\"description\": \"amount\",\n",
    "        \"reagent_material_template\": reagent_1_solvent['url'], # Associating it with solvent material\n",
    "        \"default_value\": zero_g_response['url']}\n",
    "\n",
    "client.get_or_create('reagent-material-value-template', data=data)"
   ]
  },
  {
   "cell_type": "code",
   "execution_count": 15,
   "metadata": {},
   "outputs": [],
   "source": [
    "# Convenience function to add all reagent-material-value-templates here"
   ]
  },
  {
   "cell_type": "markdown",
   "metadata": {},
   "source": [
    "## Outcome Template\n",
    "Outcome template of an experiment requires a description, an experiment template and an optional default value, in this experiment we collect crystal scores represented by integers"
   ]
  },
  {
   "cell_type": "code",
   "execution_count": 9,
   "metadata": {},
   "outputs": [
    {
     "name": "stdout",
     "output_type": "stream",
     "text": [
      "{'description': 'Crystal score', 'experiment': '489c1000-b4ae-499c-bc56-82906924e1df'}\n",
      "http://localhost:8000/api/outcome-template/?description=Crystal+score&experiment=489c1000-b4ae-499c-bc56-82906924e1df\n",
      "GET: OK. Found 1 results\n"
     ]
    }
   ],
   "source": [
    "# Create outcome template\n",
    "data = {'description': 'Crystal score', 'experiment': template_response['url']}\n",
    "outcome_response = client.get_or_create('outcome-template', data=data)"
   ]
  },
  {
   "cell_type": "markdown",
   "metadata": {},
   "source": [
    "## Action Sequences\n",
    "A series of actions strung together in order constitutes an action sequence. Action sequences once created, can be re-used in other experiment templates\n",
    "In this template, we create action sequences that contain only one action"
   ]
  },
  {
   "cell_type": "code",
   "execution_count": 22,
   "metadata": {},
   "outputs": [
    {
     "name": "stdout",
     "output_type": "stream",
     "text": [
      "{'description': 'Preheat Temperature (C)'}\n",
      "http://localhost:8000/api/action-sequence/?description=Preheat+Temperature+%28C%29\n",
      "GET: OK. Found 1 results\n",
      "{'experiment_template': '489c1000-b4ae-499c-bc56-82906924e1df', 'action_sequence': 'c7accacf-ca99-438f-af03-12319e04ad13'}\n",
      "http://localhost:8000/api/experiment-action-sequence/?experiment_template=489c1000-b4ae-499c-bc56-82906924e1df&action_sequence=c7accacf-ca99-438f-af03-12319e04ad13\n",
      "GET: OK. Found 2 results\n",
      "{'description': 'Mixing time1 (s)'}\n",
      "http://localhost:8000/api/action-sequence/?description=Mixing+time1+%28s%29\n",
      "GET: OK. Found 1 results\n",
      "{'experiment_action_sequence_seq': 1, 'experiment_template': '489c1000-b4ae-499c-bc56-82906924e1df', 'action_sequence': '7da78111-7099-4cd1-9217-b3cc4fa947ec'}\n",
      "http://localhost:8000/api/experiment-action-sequence/?experiment_action_sequence_seq=1&experiment_template=489c1000-b4ae-499c-bc56-82906924e1df&action_sequence=7da78111-7099-4cd1-9217-b3cc4fa947ec\n",
      "GET: OK. Found 1 results\n",
      "{'description': 'Mixing time2 (s)'}\n",
      "http://localhost:8000/api/action-sequence/?description=Mixing+time2+%28s%29\n",
      "GET: OK. Found 1 results\n",
      "{'experiment_action_sequence_seq': 2, 'experiment_template': '489c1000-b4ae-499c-bc56-82906924e1df', 'action_sequence': '6eb7113d-cd2f-4cd0-bcd9-bd6567f8288d'}\n",
      "http://localhost:8000/api/experiment-action-sequence/?experiment_action_sequence_seq=2&experiment_template=489c1000-b4ae-499c-bc56-82906924e1df&action_sequence=6eb7113d-cd2f-4cd0-bcd9-bd6567f8288d\n",
      "GET: OK. Found 1 results\n",
      "{'description': 'Temperature (C)'}\n",
      "http://localhost:8000/api/action-sequence/?description=Temperature+%28C%29\n",
      "GET: OK. Found 2 results\n",
      "{'experiment_action_sequence_seq': 3, 'experiment_template': '489c1000-b4ae-499c-bc56-82906924e1df', 'action_sequence': '81e2f28f-02e0-4019-9688-10b57401dcc7'}\n",
      "http://localhost:8000/api/experiment-action-sequence/?experiment_action_sequence_seq=3&experiment_template=489c1000-b4ae-499c-bc56-82906924e1df&action_sequence=81e2f28f-02e0-4019-9688-10b57401dcc7\n",
      "GET: OK. Found 1 results\n",
      "{'description': 'Stir Rate (rpm)'}\n",
      "http://localhost:8000/api/action-sequence/?description=Stir+Rate+%28rpm%29\n",
      "GET: OK. Found 2 results\n",
      "{'experiment_action_sequence_seq': 4, 'experiment_template': '489c1000-b4ae-499c-bc56-82906924e1df', 'action_sequence': '05a92391-67da-4a74-833b-312260d8c9e9'}\n",
      "http://localhost:8000/api/experiment-action-sequence/?experiment_action_sequence_seq=4&experiment_template=489c1000-b4ae-499c-bc56-82906924e1df&action_sequence=05a92391-67da-4a74-833b-312260d8c9e9\n",
      "GET: OK. Found 1 results\n",
      "{'description': 'Reaction time (s)'}\n",
      "http://localhost:8000/api/action-sequence/?description=Reaction+time+%28s%29\n",
      "GET: OK. Found 1 results\n",
      "{'experiment_action_sequence_seq': 5, 'experiment_template': '489c1000-b4ae-499c-bc56-82906924e1df', 'action_sequence': '1e9ba436-806d-4d26-b8e5-8075f96930e5'}\n",
      "http://localhost:8000/api/experiment-action-sequence/?experiment_action_sequence_seq=5&experiment_template=489c1000-b4ae-499c-bc56-82906924e1df&action_sequence=1e9ba436-806d-4d26-b8e5-8075f96930e5\n",
      "GET: OK. Found 1 results\n",
      "{'description': 'Dispense Reagent 1 - Solvent'}\n",
      "http://localhost:8000/api/action-sequence/?description=Dispense+Reagent+1+-+Solvent\n",
      "GET: OK. Found 2 results\n",
      "{'experiment_action_sequence_seq': 6, 'experiment_template': '489c1000-b4ae-499c-bc56-82906924e1df', 'action_sequence': 'f18c1d8f-c0ce-4553-a5fe-2f3920ece02c'}\n",
      "http://localhost:8000/api/experiment-action-sequence/?experiment_action_sequence_seq=6&experiment_template=489c1000-b4ae-499c-bc56-82906924e1df&action_sequence=f18c1d8f-c0ce-4553-a5fe-2f3920ece02c\n",
      "GET: OK. Found 1 results\n",
      "{'description': 'Dispense Reagent 2 - Stock ADispense Reagent 3 - Stock B'}\n",
      "http://localhost:8000/api/action-sequence/?description=Dispense+Reagent+2+-+Stock+ADispense+Reagent+3+-+Stock+B\n",
      "GET: OK. Found 1 results\n",
      "{'experiment_action_sequence_seq': 7, 'experiment_template': '489c1000-b4ae-499c-bc56-82906924e1df', 'action_sequence': '75dbd868-c3d5-42e6-afc8-3f1d2c521cd0'}\n",
      "http://localhost:8000/api/experiment-action-sequence/?experiment_action_sequence_seq=7&experiment_template=489c1000-b4ae-499c-bc56-82906924e1df&action_sequence=75dbd868-c3d5-42e6-afc8-3f1d2c521cd0\n",
      "GET: OK. Found 0 results\n",
      "POST: OK, returning new resource dict\n",
      "{'description': 'Dispense Reagent 7 - Acid Volume 1'}\n",
      "http://localhost:8000/api/action-sequence/?description=Dispense+Reagent+7+-+Acid+Volume+1\n",
      "GET: OK. Found 1 results\n",
      "{'experiment_action_sequence_seq': 8, 'experiment_template': '489c1000-b4ae-499c-bc56-82906924e1df', 'action_sequence': '78be29c1-c213-4630-8e70-33768e5095c9'}\n",
      "http://localhost:8000/api/experiment-action-sequence/?experiment_action_sequence_seq=8&experiment_template=489c1000-b4ae-499c-bc56-82906924e1df&action_sequence=78be29c1-c213-4630-8e70-33768e5095c9\n",
      "GET: OK. Found 0 results\n",
      "POST: OK, returning new resource dict\n",
      "{'description': 'Dispense Reagent 7 - Acid Volume 2'}\n",
      "http://localhost:8000/api/action-sequence/?description=Dispense+Reagent+7+-+Acid+Volume+2\n",
      "GET: OK. Found 1 results\n",
      "{'experiment_action_sequence_seq': 9, 'experiment_template': '489c1000-b4ae-499c-bc56-82906924e1df', 'action_sequence': '6a481d3c-a278-40b2-a5d8-15dd1ae81f85'}\n",
      "http://localhost:8000/api/experiment-action-sequence/?experiment_action_sequence_seq=9&experiment_template=489c1000-b4ae-499c-bc56-82906924e1df&action_sequence=6a481d3c-a278-40b2-a5d8-15dd1ae81f85\n",
      "GET: OK. Found 0 results\n",
      "POST: OK, returning new resource dict\n"
     ]
    }
   ],
   "source": [
    "# List of action sequence names\n",
    "action_sequence_names = [\"Preheat Temperature (C)\", \"Mixing time1 (s)\",\n",
    "            \"Mixing time2 (s)\", \"Temperature (C)\", \"Stir Rate (rpm)\",\n",
    "            \"Reaction time (s)\", \"Dispense Reagent 1 - Solvent\", \"Dispense Reagent 2 - Stock A\"\n",
    "            \"Dispense Reagent 3 - Stock B\", \"Dispense Reagent 7 - Acid Volume 1\",\n",
    "            \"Dispense Reagent 7 - Acid Volume 2\"]\n",
    "\n",
    "# Creating action sequences and associating them with the experiment template\n",
    "asn_responses = {}\n",
    "for sequence_number, asn in enumerate(action_sequence_names):\n",
    "    data = {'description': asn}\n",
    "    # Create action sequence\n",
    "    asn_responses[asn] = client.get_or_create(endpoint='action-sequence', data=data)[0]\n",
    "    # Associate with experiment template\n",
    "    data = {'experiment_action_sequence_seq': sequence_number,\n",
    "            'experiment_template': template_response['url'],\n",
    "            'action_sequence': asn_responses[asn]['url']}\n",
    "    client.get_or_create(endpoint='experiment-action-sequence', data=data)\n"
   ]
  },
  {
   "cell_type": "markdown",
   "metadata": {},
   "source": [
    "## Creating actions\n",
    "Pre-requisites to creating actions are: Action Definition, Action Parameter Definition, Source material and Destination material\n",
    "\n",
    "### Action definition\n",
    "Action definitions are templates for actions that can be re-used in other experiment templates. For this template we require 3 action definitions: `dispense`, `bring_to_temperature` and `stir`"
   ]
  },
  {
   "cell_type": "code",
   "execution_count": 4,
   "metadata": {},
   "outputs": [
    {
     "name": "stdout",
     "output_type": "stream",
     "text": [
      "{'description': 'dispense'}\n",
      "http://localhost:8000/api/action-def/?description=dispense\n",
      "GET: OK. Found 1 results\n",
      "{'description': 'volume'}\n",
      "http://localhost:8000/api/parameter-def/?description=volume\n",
      "GET: OK. Found 2 results\n",
      "{'description': 'dispense'}\n",
      "http://localhost:8000/api/action-def/?description=dispense\n",
      "GET: OK. Found 1 results\n",
      "[('volume', {'type': 'num', 'unit': 'mL', 'value': 0.0})]\n",
      "{'description': 'volume'}\n",
      "http://localhost:8000/api/parameter-def/?description=volume\n",
      "GET: OK. Found 2 results\n",
      "{'description': 'bring_to_temperature'}\n",
      "http://localhost:8000/api/action-def/?description=bring_to_temperature\n",
      "GET: OK. Found 1 results\n",
      "[('temperature', {'type': 'num', 'unit': 'degC', 'value': 0.0})]\n",
      "{'description': 'temperature'}\n",
      "http://localhost:8000/api/parameter-def/?description=temperature\n",
      "GET: OK. Found 2 results\n",
      "{'description': 'stir'}\n",
      "http://localhost:8000/api/action-def/?description=stir\n",
      "GET: OK. Found 1 results\n",
      "[('duration', {'type': 'num', 'unit': 'seconds', 'value': 0.0}), ('speed', {'type': 'num', 'unit': 'rpm', 'value': 0.0})]\n",
      "{'description': 'duration'}\n",
      "http://localhost:8000/api/parameter-def/?description=duration\n",
      "GET: OK. Found 2 results\n",
      "{'description': 'speed'}\n",
      "http://localhost:8000/api/parameter-def/?description=speed\n",
      "GET: OK. Found 2 results\n"
     ]
    }
   ],
   "source": [
    "# Create a dispense action definition\n",
    "data = {'description': 'dispense'}\n",
    "dispense_action_def_response = client.get_or_create(endpoint='action-def', data=data)[0]\n",
    "\n",
    "# This action definition stores the volume to be dispensed defined as a parameter definition\n",
    "data = {'description': 'volume', 'default_value': {\"type\": \"num\", \"unit\": \"mL\", \"value\": 0.0}}\n",
    "volume_parameter_def_response = client.get_or_create(endpoint='parameter-def', data=data)[0]\n",
    "\n",
    "action_parameter_def = {\n",
    "            \"dispense\": [(\"volume\",{\"type\": \"num\", \"unit\": \"mL\", \"value\": 0.0})],\n",
    "            \"bring_to_temperature\": [(\"temperature\", {\"type\": \"num\", \"unit\": \"degC\", \"value\": 0.0})],\n",
    "            \"stir\": [(\"duration\", {\"type\": \"num\", \"unit\": \"seconds\", \"value\": 0.0}),  (\"speed\", {\"type\": \"num\", \"unit\": \"rpm\", \"value\": 0.0})],\n",
    "        }\n",
    "# Convenience function to add action defs and their parameter definitions\n",
    "action_defs, parameter_defs = client.create_action_parameters(data=action_parameter_def)\n"
   ]
  },
  {
   "cell_type": "markdown",
   "metadata": {},
   "source": [
    "## Actions\n",
    "Next we add specific actions to action sequences"
   ]
  },
  {
   "cell_type": "code",
   "execution_count": null,
   "metadata": {},
   "outputs": [],
   "source": [
    "# Preheat plate\n",
    "action"
   ]
  }
 ],
 "metadata": {
  "interpreter": {
   "hash": "d4355685d9b6b377e1937fb9c3495e0ae20aaed2c1c8043a9a3f6da3a09027cb"
  },
  "kernelspec": {
   "display_name": "Python 3.7.3 ('base')",
   "language": "python",
   "name": "python3"
  },
  "language_info": {
   "codemirror_mode": {
    "name": "ipython",
    "version": 3
   },
   "file_extension": ".py",
   "mimetype": "text/x-python",
   "name": "python",
   "nbconvert_exporter": "python",
   "pygments_lexer": "ipython3",
   "version": "3.7.3"
  },
  "orig_nbformat": 4
 },
 "nbformat": 4,
 "nbformat_minor": 2
}
