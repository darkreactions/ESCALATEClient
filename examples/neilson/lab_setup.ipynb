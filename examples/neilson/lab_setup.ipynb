{
 "cells": [
  {
   "cell_type": "markdown",
   "metadata": {},
   "source": [
    "# Lab setup\n",
    "\n",
    "This tutorial walks through the process of setting up a lab and the related chemical inventory, vessels, tools etc.\n",
    "\n",
    "First, we log into the server. In this case we are logging into a local instance of ESCALATE"
   ]
  },
  {
   "cell_type": "code",
   "execution_count": 1,
   "metadata": {},
   "outputs": [],
   "source": [
    "import os\n",
    "import sys\n",
    "module_path = os.path.abspath(os.path.join('../../'))\n",
    "if module_path not in sys.path:\n",
    "    sys.path.append(module_path)\n",
    "import escalateclient\n",
    "import importlib"
   ]
  },
  {
   "cell_type": "code",
   "execution_count": 2,
   "metadata": {},
   "outputs": [],
   "source": [
    "importlib.reload(escalateclient)\n",
    "server_url = 'http://localhost:8000'\n",
    "username = 'vshekar'\n",
    "password = 'copperhead123'\n",
    "client = escalateclient.ESCALATEClient(server_url, username, password)"
   ]
  },
  {
   "cell_type": "code",
   "execution_count": 4,
   "metadata": {},
   "outputs": [
    {
     "name": "stdout",
     "output_type": "stream",
     "text": [
      "{}\n",
      "GET: OK. Found 195 results\n"
     ]
    },
    {
     "data": {
      "text/plain": [
       "195"
      ]
     },
     "execution_count": 4,
     "metadata": {},
     "output_type": "execute_result"
    }
   ],
   "source": [
    "len(client.get('material'))"
   ]
  },
  {
   "cell_type": "markdown",
   "metadata": {},
   "source": [
    "Next, we set up organizations and they can be hierarchical. For example, we can create Nielson lab under University of Colorado"
   ]
  },
  {
   "cell_type": "code",
   "execution_count": 4,
   "metadata": {},
   "outputs": [
    {
     "name": "stdout",
     "output_type": "stream",
     "text": [
      "{'description': 'University of Colorado', 'full_name': 'University of Colorado at Boulder', 'short_name': 'CU', 'address1': 'Boulder, CO 80309', 'city': 'Boulder', 'state_province': 'CO', 'zip': '80309', 'country': 'USA', 'phone': '123456', 'website_url': 'www.colorado.edu'}\n",
      "http://localhost:8000/api/organization/?description=University+of+Colorado&full_name=University+of+Colorado+at+Boulder&short_name=CU&address1=Boulder%2C+CO+80309&city=Boulder&state_province=CO&zip=80309&country=USA&phone=123456&website_url=www.colorado.edu\n",
      "GET: OK. Found 1 results\n",
      "[{'url': 'http://localhost:8000/api/organization/202cdb68-ed8b-4519-bf50-6e2c383a2ab6/', 'uuid': '202cdb68-ed8b-4519-bf50-6e2c383a2ab6', 'edocs': [], 'tags': [], 'notes': [], 'address1': 'Boulder, CO 80309', 'address2': '', 'city': 'Boulder', 'state_province': 'CO', 'zip': '80309', 'country': 'USA', 'phone': '123456', 'add_date': '2022-02-21T14:44:15.136884', 'mod_date': '2022-02-21T14:44:15.136914', 'description': 'University of Colorado', 'full_name': 'University of Colorado at Boulder', 'short_name': 'CU', 'website_url': 'www.colorado.edu', 'parent_path': None, 'internal_slug': 'university-of-colorado-at-boulder-cu', 'parent': None}]\n"
     ]
    }
   ],
   "source": [
    "# Creating University of Colorado first\n",
    "cu_info = { \"description\": \"University of Colorado\",\n",
    "            \"full_name\": \"University of Colorado at Boulder\",\n",
    "            \"short_name\": \"CU\",\n",
    "            \"address1\": \"Boulder, CO 80309\",\n",
    "            \"address2\": \"\",\n",
    "            \"city\": \"Boulder\",\n",
    "            \"state_province\": \"CO\",\n",
    "            \"zip\": \"80309\",\n",
    "            \"country\": \"USA\",\n",
    "            \"phone\": '123456',\n",
    "            \"website_url\": 'www.colorado.edu',\n",
    "            }\n",
    "\n",
    "cu_response = client.get_or_create(endpoint='organization', data=cu_info)\n",
    "#cu_response = client.get(endpoint='organization', data=cu_info)\n",
    "print(cu_response)"
   ]
  },
  {
   "cell_type": "code",
   "execution_count": 5,
   "metadata": {},
   "outputs": [
    {
     "name": "stdout",
     "output_type": "stream",
     "text": [
      "{'description': 'Nielson Lab', 'address1': 'Boulder, CO 80309', 'city': 'Boulder', 'state_province': 'CO', 'zip': '80309', 'country': 'USA', 'phone': '123456', 'full_name': 'Nielson Lab', 'short_name': 'NL', 'website_url': 'www.colorado.edu', 'parent': '202cdb68-ed8b-4519-bf50-6e2c383a2ab6'}\n",
      "http://localhost:8000/api/organization/?description=Nielson+Lab&address1=Boulder%2C+CO+80309&city=Boulder&state_province=CO&zip=80309&country=USA&phone=123456&full_name=Nielson+Lab&short_name=NL&website_url=www.colorado.edu&parent=202cdb68-ed8b-4519-bf50-6e2c383a2ab6\n",
      "GET: OK. Found 1 results\n",
      "{'first_name': 'James', 'last_name': 'Nielson', 'organization': '202cdb68-ed8b-4519-bf50-6e2c383a2ab6'}\n",
      "http://localhost:8000/api/person/?first_name=James&last_name=Nielson&organization=202cdb68-ed8b-4519-bf50-6e2c383a2ab6\n",
      "GET: OK. Found 1 results\n",
      "{'person': '81417ed7-e262-4888-a286-5ffb740a3758'}\n",
      "http://localhost:8000/api/actor/?person=81417ed7-e262-4888-a286-5ffb740a3758\n",
      "GET: OK. Found 1 results\n"
     ]
    }
   ],
   "source": [
    "# Then creating the Nielson Lab\n",
    "nielson_lab_data = { \n",
    "    'description': 'Nielson Lab', \n",
    "    'address1': 'Boulder, CO 80309', \n",
    "    'address2': '', \n",
    "    'city': 'Boulder', \n",
    "    'state_province': 'CO', \n",
    "    'zip': '80309', \n",
    "    'country': 'USA', \n",
    "    'phone': '123456',\n",
    "    'full_name': 'Nielson Lab', \n",
    "    'short_name': 'NL', \n",
    "    'website_url': 'www.colorado.edu', \n",
    "    'parent': cu_response[0]['url']}\n",
    "\n",
    "nl_response = client.get_or_create(endpoint='organization', data=nielson_lab_data)\n",
    "\n",
    "# Creating a person entry to identify the owner\n",
    "# Note: If a user account is created, a person entry is automatically created for that user\n",
    "\n",
    "nielson_data = {\n",
    "    \"first_name\": \"James\",\n",
    "    \"middle_name\": \"\",\n",
    "    \"last_name\": \"Nielson\",\n",
    "    \"address1\": \"\",\n",
    "    \"address2\": \"\",\n",
    "    \"city\": \"\",\n",
    "    \"state_province\": \"\",\n",
    "    \"zip\": \"\",\n",
    "    \"country\": \"\",\n",
    "    \"phone\": \"\",\n",
    "    \"email\": \"\",\n",
    "    \"title\": \"\",\n",
    "    \"suffix\": \"\",\n",
    "    \"organization\": cu_response[0]['url']\n",
    "}\n",
    "\n",
    "nielson_response = client.get_or_create('person', data=nielson_data)\n",
    "nielson_actor = client.get('actor', data={'person': nielson_response[0]['url']})"
   ]
  },
  {
   "cell_type": "markdown",
   "metadata": {},
   "source": [
    "Next, we set up an inventory for the lab"
   ]
  },
  {
   "cell_type": "code",
   "execution_count": 6,
   "metadata": {},
   "outputs": [
    {
     "name": "stdout",
     "output_type": "stream",
     "text": [
      "{'description': 'active'}\n",
      "http://localhost:8000/api/status/?description=active\n",
      "GET: OK. Found 1 results\n",
      "{'description': 'Nielson Lab Inventory', 'status': '4dda7679-043f-4876-bbe8-f59a650666b9', 'actor': 'a62bcf58-9736-499a-8937-19460323adcb', 'owner': 'a62bcf58-9736-499a-8937-19460323adcb', 'operator': 'a62bcf58-9736-499a-8937-19460323adcb', 'lab': 'a62bcf58-9736-499a-8937-19460323adcb'}\n",
      "http://localhost:8000/api/inventory/?description=Nielson+Lab+Inventory&status=4dda7679-043f-4876-bbe8-f59a650666b9&actor=a62bcf58-9736-499a-8937-19460323adcb&owner=a62bcf58-9736-499a-8937-19460323adcb&operator=a62bcf58-9736-499a-8937-19460323adcb&lab=a62bcf58-9736-499a-8937-19460323adcb\n",
      "GET: OK. Found 1 results\n"
     ]
    }
   ],
   "source": [
    "# Get value, get always returns a list, even if there is only one element to be returned\n",
    "active_status = client.get_or_create(endpoint='status', data={'description': 'active'})\n",
    "\n",
    "# Inventory details\n",
    "nl_inventory = {\n",
    "    \"description\": \"Nielson Lab Inventory\",\n",
    "    \"status\": active_status[0]['url'], # Indicates active status\n",
    "    \"actor\": nielson_actor[0]['url'],\n",
    "    \"owner\": nielson_actor[0]['url'], # Indicates James Nielson as owner\n",
    "    \"operator\": nielson_actor[0]['url'], # Indicates James Nielson as operator\n",
    "    \"lab\": nielson_actor[0]['url'] # Associates inventory with Nielson Lab\n",
    "}\n",
    "\n",
    "nl_inventory_response = client.get_or_create(endpoint='inventory', data=nl_inventory)"
   ]
  },
  {
   "cell_type": "markdown",
   "metadata": {},
   "source": [
    "Then add chemicals to the inventory"
   ]
  },
  {
   "cell_type": "code",
   "execution_count": 8,
   "metadata": {},
   "outputs": [
    {
     "name": "stdout",
     "output_type": "stream",
     "text": [
      "POST: OK, returning new resource dict\n",
      "POST: OK, returning new resource dict\n",
      "POST: OK, returning new resource dict\n",
      "POST: OK, returning new resource dict\n",
      "POST: OK, returning new resource dict\n",
      "POST: OK, returning new resource dict\n",
      "POST: OK, returning new resource dict\n",
      "POST: OK, returning new resource dict\n",
      "POST: OK, returning new resource dict\n",
      "POST: OK, returning new resource dict\n",
      "POST: OK, returning new resource dict\n",
      "POST: OK, returning new resource dict\n",
      "POST: OK, returning new resource dict\n",
      "POST: OK, returning new resource dict\n",
      "POST: OK, returning new resource dict\n",
      "POST: OK, returning new resource dict\n",
      "POST: OK, returning new resource dict\n",
      "POST: OK, returning new resource dict\n",
      "POST: OK, returning new resource dict\n",
      "POST: OK, returning new resource dict\n",
      "POST: OK, returning new resource dict\n",
      "POST: OK, returning new resource dict\n",
      "POST: OK, returning new resource dict\n",
      "POST: OK, returning new resource dict\n",
      "POST: OK, returning new resource dict\n",
      "POST: OK, returning new resource dict\n"
     ]
    }
   ],
   "source": [
    "import pandas as pd\n",
    "df = pd.read_csv('MetalChalcogenideRxns.csv')\n",
    "data = {\n",
    "    'description': '',\n",
    "    'consumable': True,\n",
    "    'material_class': 'model',\n",
    "}\n",
    "for chemical in df['Product expected']:\n",
    "    data['description'] = chemical\n",
    "    client.post('material', data=data)\n"
   ]
  },
  {
   "cell_type": "code",
   "execution_count": null,
   "metadata": {},
   "outputs": [],
   "source": []
  }
 ],
 "metadata": {
  "interpreter": {
   "hash": "447f0e42cfad2457edbcf95bc5af80fabaa4025170a4dd71642e793362cff6c2"
  },
  "kernelspec": {
   "display_name": "Python 3.8.3 ('escalate-3.8.3')",
   "language": "python",
   "name": "python3"
  },
  "language_info": {
   "codemirror_mode": {
    "name": "ipython",
    "version": 3
   },
   "file_extension": ".py",
   "mimetype": "text/x-python",
   "name": "python",
   "nbconvert_exporter": "python",
   "pygments_lexer": "ipython3",
   "version": "3.8.3"
  },
  "orig_nbformat": 4
 },
 "nbformat": 4,
 "nbformat_minor": 2
}
