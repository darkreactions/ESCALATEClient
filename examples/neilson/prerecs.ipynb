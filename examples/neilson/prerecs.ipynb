{
 "cells": [
  {
   "cell_type": "markdown",
   "metadata": {},
   "source": [
    "# Dataload\n",
    "\n",
    "The following notebook walks through how to load prerequisite data into ESCALATE. This presumes all database tables are completely empty to start."
   ]
  },
  {
   "cell_type": "code",
   "execution_count": null,
   "metadata": {},
   "outputs": [],
   "source": [
    "import os\n",
    "import sys\n",
    "module_path = os.path.abspath(os.path.join('../../'))\n",
    "if module_path not in sys.path:\n",
    "    sys.path.append(module_path)\n",
    "import escalateclient\n",
    "import importlib\n",
    "import pandas as pd"
   ]
  },
  {
   "cell_type": "code",
   "execution_count": null,
   "metadata": {},
   "outputs": [],
   "source": [
    "importlib.reload(escalateclient)\n",
    "server_url = 'http://localhost:8000'\n",
    "# server_url = 'https://escalate.cs.haverford.edu/test_server'\n",
    "username = 'vshekar'\n",
    "password = 'copperhead123'\n",
    "client = escalateclient.ESCALATEClient(server_url, username, password)"
   ]
  },
  {
   "cell_type": "markdown",
   "metadata": {},
   "source": [
    "# Users and Organizations"
   ]
  },
  {
   "cell_type": "code",
   "execution_count": null,
   "metadata": {},
   "outputs": [],
   "source": [
    "#List of statuses to create\n",
    "statuses = [\"inactive\", \"active\", \"test\", \"do_not_use\", \"prototype\"]    \n",
    "\n",
    "#Create statuses \n",
    "for s in statuses:\n",
    "    status_response = client.get_or_create(endpoint='status', data={'description': s})\n",
    "\n",
    "#Get active status \n",
    "active_status = client.get_or_create(endpoint='status', data={'description': 'active'})"
   ]
  },
  {
   "cell_type": "code",
   "execution_count": null,
   "metadata": {},
   "outputs": [],
   "source": [
    "# Create organizations - they can be hierarchical\n",
    "# First, a university-level organization \n",
    "cu_info = { \"description\": \"University of Colorado\",\n",
    "            \"full_name\": \"University of Colorado at Boulder\",\n",
    "            \"short_name\": \"CU\",\n",
    "            \"address1\": \"Boulder, CO 80309\",\n",
    "            \"address2\": \"\",\n",
    "            \"city\": \"Boulder\",\n",
    "            \"state_province\": \"CO\",\n",
    "            \"zip\": \"80309\",\n",
    "            \"country\": \"USA\",\n",
    "            \"phone\": '123456',\n",
    "            \"website_url\": 'www.colorado.edu',\n",
    "            }\n",
    "\n",
    "cu_response = client.get_or_create(endpoint='organization', data=cu_info)\n",
    "\n",
    "# Next, a lab-level organization within the university\n",
    "neilson_lab_data = { \n",
    "    'description': 'Neilson Lab', \n",
    "    'address1': 'Boulder, CO 80309', \n",
    "    'address2': '', \n",
    "    'city': 'Boulder', \n",
    "    'state_province': 'CO', \n",
    "    'zip': '80309', \n",
    "    'country': 'USA', \n",
    "    'phone': '123456',\n",
    "    'full_name': 'Neilson Lab', \n",
    "    'short_name': 'NL', \n",
    "    'website_url': 'www.colorado.edu', \n",
    "    'parent': cu_response[0]['url']} #This associates the lab with the university and establishes a hierarchical relationship\n",
    "\n",
    "nl_response = client.get_or_create(endpoint='organization', data=neilson_lab_data)"
   ]
  },
  {
   "cell_type": "code",
   "execution_count": null,
   "metadata": {},
   "outputs": [],
   "source": [
    "# Create a person entry\n",
    "# Note: If a user account is created, a person entry is automatically created for that user\n",
    "\n",
    "neilson_data = {\n",
    "    \"first_name\": \"James\",\n",
    "    \"middle_name\": \"\",\n",
    "    \"last_name\": \"Neilson\",\n",
    "    \"address1\": \"\",\n",
    "    \"address2\": \"\",\n",
    "    \"city\": \"\",\n",
    "    \"state_province\": \"\",\n",
    "    \"zip\": \"\",\n",
    "    \"country\": \"\",\n",
    "    \"phone\": \"\",\n",
    "    \"email\": \"\",\n",
    "    \"title\": \"\",\n",
    "    \"suffix\": \"\",\n",
    "    \"organization\": cu_response[0]['url'] #This associates the person with the organization\n",
    "}\n",
    "\n",
    "neilson_response = client.get_or_create('person', data=neilson_data)\n",
    "neilson_actor = client.get('actor', data={'person': neilson_response[0]['url']})"
   ]
  },
  {
   "cell_type": "code",
   "execution_count": 8,
   "metadata": {},
   "outputs": [
    {
     "name": "stdout",
     "output_type": "stream",
     "text": [
      "Wesley Wang\n",
      "Isaac Chang\n",
      "Shekar V\n",
      "Nicole Smina\n",
      "Philip Nega\n",
      "Mansoor Nellikkal\n",
      "Ian Pendleton\n",
      "Minji Lee\n",
      "Mike Tynes\n",
      "Liana Alves\n",
      "Zhi Li\n",
      "Gary Cattabriga\n",
      "T Testuser\n",
      "Matt Castillo\n",
      "Joseph Kawamura\n"
     ]
    }
   ],
   "source": [
    "#List of people to add to db (a list of lists, where first element is first name and second element is last name)\n",
    "person_data = [\n",
    "    [\"Wesley\", \"Wang\"],\n",
    "    [\"Isaac\", \"Chang\"],\n",
    "    [\"Shekar\", \"V\"],\n",
    "    [\"Nicole\", \"Smina\"],\n",
    "    [\"Philip\", \"Nega\"],\n",
    "    [\"Mansoor\", \"Nellikkal\"],\n",
    "    [\"Ian\", \"Pendleton\"],\n",
    "    [\"Minji\", \"Lee\"],\n",
    "    [\"Mike\", \"Tynes\"],\n",
    "    [\"Liana\", \"Alves\"],\n",
    "    [\"Zhi\", \"Li\"],\n",
    "    [\"Gary\", \"Cattabriga\"],\n",
    "    [\"T\", \"Testuser\"],\n",
    "    [\"Matt\", \"Castillo\"],\n",
    "    [\"Joseph\", \"Kawamura\"],\n",
    "]\n",
    "\n",
    "for entry in person_data:\n",
    "    #Add person data to db\n",
    "    person_response = client.get_or_create(endpoint='person', data={'first_name': entry[0], 'last_name': entry[1]})\n",
    "\n",
    "    #Create an actor for each person entry\n",
    "    actor_response = client.get_or_create(endpoint=\"actor\", data={'person': person_response})\n",
    "    "
   ]
  },
  {
   "cell_type": "code",
   "execution_count": null,
   "metadata": {},
   "outputs": [],
   "source": [
    "#List of organizations (e.g. labs) to add to db (a list of lists, where first element is description, second is full name, and third is abbreviation)\n",
    "org_data = [\n",
    "    [\"Cheminfomatics software\", \"ChemAxon\", \"ChemAxon\"],\n",
    "    [\"Laboratory\", \"Emerald Cloud Lab\", \"ECL\"],\n",
    "    [\"DBMS\", \"PostgreSQL\", \"postgres\"],\n",
    "    [\"Chemical vendor\", \"Sigma-Aldrich\", \"Sigma-Aldrich\"],\n",
    "    [\"Chemical vendor\", \"Greatcell Solar\", \"Greatcell\"],\n",
    "    [\"Test Co\", \"TestCo\", \"TC\"],\n",
    "    [\"Cheminfomatics software\", \"RDKit open source software\", \"RDKit\"],\n",
    "    [\"Laboratory\", \"Norquist Lab\", \"NL\"],\n",
    "    [\"College\", \"Haverford College\", \"HC\"],\n",
    "    [\"Laboratory\", \"Lawrence Berkeley National Laboratory\", \"LBL\"],\n",
    "]\n",
    "\n",
    "for entry in org_data:\n",
    "    #Add organization data to db\n",
    "    org_response = client.get_or_create(endpoint='organization', data={'description': entry[0], 'full_name': entry[1], 'short_name': entry[2]})\n",
    "\n",
    "    #Create an actor for each organzation entry\n",
    "    actor_response = client.get_or_create(endpoint=\"actor\", data={'organization': org_response})"
   ]
  },
  {
   "cell_type": "markdown",
   "metadata": {},
   "source": [
    "# Inventory"
   ]
  },
  {
   "cell_type": "code",
   "execution_count": null,
   "metadata": {},
   "outputs": [],
   "source": [
    "# Details for inventory\n",
    "nl_inventory = {\n",
    "    \"description\": \"Nielson Lab Inventory\",\n",
    "    \"status\": active_status[0]['url'], # Indicates active status\n",
    "    \"actor\": neilson_actor[0]['url'],\n",
    "    \"owner\": neilson_actor[0]['url'], # Indicates James Neilson as owner\n",
    "    \"operator\": neilson_actor[0]['url'], # Indicates James Neilson as operator\n",
    "    \"lab\": neilson_actor[0]['url'] # Associates inventory with Neilson Lab\n",
    "}\n",
    "\n",
    "#Create inventory\n",
    "nl_inventory_response = client.get_or_create(endpoint='inventory', data=nl_inventory)"
   ]
  },
  {
   "cell_type": "markdown",
   "metadata": {},
   "source": [
    "# Materials"
   ]
  },
  {
   "cell_type": "code",
   "execution_count": null,
   "metadata": {},
   "outputs": [],
   "source": [
    "#List of material identifier definitions to create\n",
    "material_identifier_defs =  [\"SMIRKS\", \"Chemical_Name\", \"InChI\", \"SMILES\", \"Molecular_Formula\", \"SMARTS\", \"RInChI\", \"InChIKey\", \"Abbreviation\"]\n",
    "\n",
    "#Create material identifier definitions \n",
    "for mid in material_identifier_defs:\n",
    "    mid_response = client.get_or_create(endpoint='material-identifier-def', data={'description': mid})\n",
    "\n",
    "#List of material types to create\n",
    "material_types =  [\"solvent\",\"antisolvent\", \"acid\", \"organic\", \"inorganic\", \"polymer\"]\n",
    "\n",
    "#Create material types \n",
    "for mt in material_types:\n",
    "    mt_response = client.get_or_create(endpoint='material-type', data={'description': mt})"
   ]
  },
  {
   "cell_type": "code",
   "execution_count": null,
   "metadata": {},
   "outputs": [],
   "source": [
    "#Material data\n",
    "chem_list = pd.read_csv('Chemicals List.csv')\n",
    "chem_list = chem_list.fillna('')\n",
    "chem_list['Material type'] = chem_list['Material type'].str.replace('Gas', 'flux')\n",
    "\n",
    "for i, row in chem_list.iterrows():\n",
    "    chemical_name = row['Chemical Name']\n",
    "    material_types = row['Material type'].lower().split(',')\n",
    "    mt_responses = []\n",
    "    for mt in material_types:\n",
    "        mt_responses.append(client.get_or_create('material-type', data={'description': mt})[0]) # Get material type from a separate database table\n",
    "    # Add material to db\n",
    "    material_data = {'description': chemical_name, 'material_type': [mtr['url'] for mtr in mt_responses], 'material_class':'model'}\n",
    "    material_response = client.get_or_create('material', data=material_data)\n",
    "    # Add material to inventory\n",
    "    if row['Inventory Name']:\n",
    "        description = f\"{chemical_name} {row['Inventory Name']}\"\n",
    "    else:\n",
    "        description = chemical_name\n",
    "    im_data = {\n",
    "        \"description\": description,\n",
    "        \"part_no\": f\"{row['CAS Num']}\",\n",
    "        \"phase\": row['Phase'].lower(),\n",
    "        \"inventory\": nl_inventory_response[0]['url'], #Associates inventory material with Neilson lab inventory\n",
    "        \"material\": material_response[0]['url'] #Associates inventory material with material\n",
    "    }\n",
    "    im_response = client.get_or_create('inventory-material', data=im_data)"
   ]
  },
  {
   "cell_type": "markdown",
   "metadata": {},
   "source": [
    "# Vessels"
   ]
  },
  {
   "cell_type": "code",
   "execution_count": null,
   "metadata": {},
   "outputs": [],
   "source": [
    "#Vessel data\n",
    "vessels_list = pd.read_csv('load_opentrons_vessels.csv')\n",
    "vessels_list = vessels_list.fillna('')\n",
    "\n",
    "for i, row in vessels_list.iterrows():\n",
    "    vessel_name = row['description']\n",
    "    vol = row[\"total_volume\"]\n",
    "    #Enter volume as a value field\n",
    "    if len(vol.split()) > 1:\n",
    "        val = vol.split()[0]\n",
    "        unit = vol.split()[1]\n",
    "        total_volume = {\"value\": val, \"unit\": unit, \"type\": \"num\"}\n",
    "    else:\n",
    "        total_volume = None\n",
    "    \n",
    "    well_number = row[\"well_number\"]\n",
    "    column_order = row[\"column_order\"]\n",
    "\n",
    "    vessel_data = {'description': vessel_name,\n",
    "                    'total_volume': total_volume,\n",
    "                    'well_number': well_number,\n",
    "                    'column_order': column_order,\n",
    "                    'status': active_status[0]['url'],\n",
    "                    }\n",
    "    # Add vessel data to db\n",
    "    vessel_response = client.get_or_create('vessel', data=vessel_data)"
   ]
  },
  {
   "cell_type": "markdown",
   "metadata": {},
   "source": [
    "# Experiment-related Definitions (Actions, Parameters, Properties)\n",
    "\n",
    "### Properties"
   ]
  },
  {
   "cell_type": "code",
   "execution_count": null,
   "metadata": {},
   "outputs": [],
   "source": [
    "# Create default values\n",
    "volume_value = {\"value\": 0, \"unit\": \"ml\", \"type\": \"num\"}\n",
    "zero_ml_data = {\"description\": \"Zero ml\", \"nominal_value\": volume_value, \"actual_value\": volume_value,}\n",
    "zero_ml_response = client.get_or_create(endpoint='default-values', data=zero_ml_data)\n",
    "\n",
    "mass_value = {\"value\": 0, \"unit\": \"g\", \"type\": \"num\"}\n",
    "zero_g_data = {\"description\": \"Zero g\", \"nominal_value\": mass_value, \"actual_value\": mass_value,}\n",
    "zero_g_response = client.get_or_create(endpoint='default-values', data=zero_g_data)\n",
    "\n",
    "concentration_value = {\"value\": 0, \"unit\": \"M\", \"type\": \"num\"}\n",
    "zero_M_data = {\"description\": \"Zero M\", \"nominal_value\": concentration_value, \"actual_value\": concentration_value,}\n",
    "zero_M_response = client.get_or_create(endpoint='default-values', data=zero_M_data)\n",
    "\n",
    "# List of extrinsic properties to create\n",
    "property_data={\"total volume\": zero_ml_response,\n",
    "                \"dead volume\": zero_ml_response,\n",
    "                \"concentration\": zero_M_response,\n",
    "                \"amount\": zero_g_response}\n",
    "\n",
    "# Create extrinsic properties\n",
    "for key, val in property_data:\n",
    "    prop_data = {\n",
    "                \"description\": key,\n",
    "                \"property_def_class\": \"extrinsic\",\n",
    "                \"short_description\": key,\n",
    "                \"default_value\": val[0]['url'], #Associates property with default value\n",
    "            }\n",
    "    prop_response = client.get_or_create(endpoint='property-template', data=prop_data)"
   ]
  },
  {
   "cell_type": "code",
   "execution_count": null,
   "metadata": {},
   "outputs": [],
   "source": [
    "# Create default values\n",
    "density_value = {\"value\": 0, \"unit\": \"g/ml\", \"type\": \"num\"}\n",
    "zero_gml_data = {\"description\": \"Zero g/ml\", \"nominal_value\": density_value, \"actual_value\": density_value,}\n",
    "zero_gml_response = client.get_or_create(endpoint='default-values', data=zero_gml_data)\n",
    "\n",
    "mw_value = {\"value\": 0, \"unit\": \"g/mol\", \"type\": \"num\"}\n",
    "zero_mw_data = {\"description\": \"Zero g/mol\", \"nominal_value\": mw_value, \"actual_value\": mw_value,}\n",
    "zero_mw_response = client.get_or_create(endpoint='default-values', data=zero_mw_data)\n",
    "\n",
    "# List of intrinsic properties to create\n",
    "property_data={\"density\": zero_gml_response,\n",
    "                \"molecular weight\": zero_mw_response,\n",
    "                }\n",
    "\n",
    "# Create extrinsic properties\n",
    "for key, val in property_data:\n",
    "    prop_data = {\n",
    "                \"description\": key,\n",
    "                \"property_def_class\": \"intrinsic\",\n",
    "                \"short_description\": key,\n",
    "                \"default_value\": val[0]['url'], #Associates property with default value\n",
    "            }\n",
    "    prop_response = client.get_or_create(endpoint='property-template', data=prop_data)"
   ]
  },
  {
   "cell_type": "markdown",
   "metadata": {},
   "source": [
    "### Parameters"
   ]
  },
  {
   "cell_type": "code",
   "execution_count": null,
   "metadata": {},
   "outputs": [],
   "source": [
    "#Parameter data\n",
    "params_list = pd.read_csv('parameter_def.csv', sep=\"\\t\")\n",
    "params_list = params_list.fillna('')\n",
    "\n",
    "\n",
    "for i, row in params_list.iterrows():\n",
    "    description = row[\"description\"]\n",
    "    type_ = row[\"type\"]\n",
    "    value_from_csv = str(row[\"value\"])\n",
    "    unit = row[\"unit\"]\n",
    "    required = row[\"required\"]\n",
    "    unit_type = row[\"unit_type\"]\n",
    "    params_data = {\n",
    "        \"description\": description,\n",
    "        \"default_val\": {'value': float(value_from_csv), 'unit': unit, 'type': type_},\n",
    "        \"unit_type\": unit_type,\n",
    "        \"required\": required,\n",
    "        \"status\": active_status[0]['url'],\n",
    "    }\n",
    "    params_response = client.get_or_create('parameter-def', data=params_data) "
   ]
  },
  {
   "cell_type": "markdown",
   "metadata": {},
   "source": [
    "### Actions"
   ]
  },
  {
   "cell_type": "code",
   "execution_count": null,
   "metadata": {},
   "outputs": [],
   "source": [
    "#Action data\n",
    "action_list = pd.read_csv('action_def.csv', sep=\"\\t\")\n",
    "action_list = action_list.fillna('')\n",
    "\n",
    "\n",
    "for i, row in action_list.iterrows():\n",
    "    description = row[\"description\"]\n",
    "    parameters = row[\"parameter_def_descriptions\"]\n",
    "    synonym = row[\"synonym\"]\n",
    "    action_data = {\n",
    "        \"description\": description,\n",
    "        \"synonym\": synonym,\n",
    "        \"status\": active_status[0]['url'],\n",
    "        \"parameter_def\": [],\n",
    "\n",
    "    }\n",
    "    for x in parameters:\n",
    "        param_response = client.get_or_create('parameter-def', data={'description': x})\n",
    "        action_data[\"parameter_def\"].append(param_response)\n",
    "    action_response = client.get_or_create('action-def', data=action_data) "
   ]
  },
  {
   "cell_type": "markdown",
   "metadata": {},
   "source": []
  }
 ],
 "metadata": {
  "interpreter": {
   "hash": "0fdd101c9687f54ae10c7a48a9cd4a66e074edb9be04209afb9d4c3e0fccead7"
  },
  "kernelspec": {
   "display_name": "Python 3.9.6 ('escalate')",
   "language": "python",
   "name": "python3"
  },
  "language_info": {
   "codemirror_mode": {
    "name": "ipython",
    "version": 3
   },
   "file_extension": ".py",
   "mimetype": "text/x-python",
   "name": "python",
   "nbconvert_exporter": "python",
   "pygments_lexer": "ipython3",
   "version": "3.9.6"
  },
  "orig_nbformat": 4
 },
 "nbformat": 4,
 "nbformat_minor": 2
}
