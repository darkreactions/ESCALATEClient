{
 "cells": [
  {
   "cell_type": "code",
   "execution_count": 1,
   "metadata": {},
   "outputs": [],
   "source": [
    "import os\n",
    "import sys\n",
    "module_path = os.path.abspath(os.path.join('../../'))\n",
    "if module_path not in sys.path:\n",
    "    sys.path.append(module_path)\n",
    "import escalateclient\n",
    "import importlib"
   ]
  },
  {
   "cell_type": "code",
   "execution_count": 2,
   "metadata": {},
   "outputs": [],
   "source": [
    "importlib.reload(escalateclient)\n",
    "server_url = 'http://localhost:8000'\n",
    "username = 'vshekar'\n",
    "password = 'copperhead123'\n",
    "client = escalateclient.ESCALATEClient(server_url, username, password)"
   ]
  },
  {
   "cell_type": "code",
   "execution_count": 7,
   "metadata": {},
   "outputs": [
    {
     "name": "stdout",
     "output_type": "stream",
     "text": [
      "{'description': 'Neilson Lab', 'person__isnull': True, 'systemtool__isnull': True}\n",
      "http://localhost:8000/api/actor/?description=Neilson+Lab&person__isnull=True&systemtool__isnull=True\n",
      "GET: OK. Found 0 results\n",
      "POST: OK, returning new resource dict\n"
     ]
    }
   ],
   "source": [
    "neilson_lab_response = client.get_or_create(endpoint='actor', data={'description': 'Neilson Lab', 'person__isnull': True, 'systemtool__isnull': True})[0]"
   ]
  },
  {
   "cell_type": "code",
   "execution_count": 8,
   "metadata": {},
   "outputs": [
    {
     "name": "stdout",
     "output_type": "stream",
     "text": [
      "{'description': 'Neilson Experiment', 'ref_id': 'workflow_1', 'lab': '9df76199-42b8-44ae-8b7b-ce41d48ccbf6'}\n",
      "http://localhost:8000/api/experiment-template/?description=Neilson+Experiment&ref_id=workflow_1&lab=9df76199-42b8-44ae-8b7b-ce41d48ccbf6\n",
      "GET: OK. Found 0 results\n",
      "POST: OK, returning new resource dict\n"
     ]
    }
   ],
   "source": [
    "template_response = client.get_or_create(endpoint='experiment-template', data={'description': 'Neilson Experiment', 'ref_id': 'workflow_1', 'lab': neilson_lab_response['url']})[0]"
   ]
  },
  {
   "cell_type": "code",
   "execution_count": 3,
   "metadata": {},
   "outputs": [
    {
     "name": "stdout",
     "output_type": "stream",
     "text": [
      "{'description': 'Reagent 1 - Nitride Precursors'}\n",
      "http://localhost:8000/api/reagent-template/?description=Reagent+1+-+Nitride+Precursors\n",
      "GET: OK. Found 0 results\n",
      "POST: OK, returning new resource dict\n",
      "{'description': 'nitride'}\n",
      "http://localhost:8000/api/material-type/?description=nitride\n",
      "GET: OK. Found 0 results\n",
      "POST: OK, returning new resource dict\n",
      "{'description': 'Reagent 1 - Nitride Precursors: nitride', 'reagent_template': '6c110c88-9f11-4284-91ca-d98e65a35959', 'material_type': 'bb4ac792-378c-4c1b-8b2e-626b2ad3ab27'}\n",
      "http://localhost:8000/api/reagent-material-template/?description=Reagent+1+-+Nitride+Precursors%3A+nitride&reagent_template=6c110c88-9f11-4284-91ca-d98e65a35959&material_type=bb4ac792-378c-4c1b-8b2e-626b2ad3ab27\n",
      "GET: OK. Found 0 results\n",
      "POST: OK, returning new resource dict\n",
      "{'description': 'Reagent 2 - Oxide Precursors'}\n",
      "http://localhost:8000/api/reagent-template/?description=Reagent+2+-+Oxide+Precursors\n",
      "GET: OK. Found 0 results\n",
      "POST: OK, returning new resource dict\n",
      "{'description': 'oxide'}\n",
      "http://localhost:8000/api/material-type/?description=oxide\n",
      "GET: OK. Found 0 results\n",
      "POST: OK, returning new resource dict\n",
      "{'description': 'Reagent 2 - Oxide Precursors: oxide', 'reagent_template': 'ee6a5374-a2a2-4063-b8dd-837c599793fe', 'material_type': '04e960f4-84c3-411e-8bb7-fb0597264f04'}\n",
      "http://localhost:8000/api/reagent-material-template/?description=Reagent+2+-+Oxide+Precursors%3A+oxide&reagent_template=ee6a5374-a2a2-4063-b8dd-837c599793fe&material_type=04e960f4-84c3-411e-8bb7-fb0597264f04\n",
      "GET: OK. Found 0 results\n",
      "POST: OK, returning new resource dict\n",
      "{'description': 'Reagent 3 - Fluxes'}\n",
      "http://localhost:8000/api/reagent-template/?description=Reagent+3+-+Fluxes\n",
      "GET: OK. Found 0 results\n",
      "POST: OK, returning new resource dict\n",
      "{'description': 'flux'}\n",
      "http://localhost:8000/api/material-type/?description=flux\n",
      "GET: OK. Found 0 results\n",
      "POST: OK, returning new resource dict\n",
      "{'description': 'Reagent 3 - Fluxes: flux', 'reagent_template': '8764b6c7-3f35-40c0-a837-92a6d5443ce2', 'material_type': '59696841-f587-4b4f-b659-6b4723e7549a'}\n",
      "http://localhost:8000/api/reagent-material-template/?description=Reagent+3+-+Fluxes%3A+flux&reagent_template=8764b6c7-3f35-40c0-a837-92a6d5443ce2&material_type=59696841-f587-4b4f-b659-6b4723e7549a\n",
      "GET: OK. Found 0 results\n",
      "POST: OK, returning new resource dict\n"
     ]
    }
   ],
   "source": [
    "reagent_templates = {\n",
    "            \"Reagent 1 - Nitride Precursors\": [\"nitride\"],\n",
    "            \"Reagent 2 - Oxide Precursors\": [\"oxide\"],\n",
    "            \"Reagent 3 - Fluxes\": [\"flux\"],\n",
    "        }\n",
    "\n",
    "reagent_template_responses = client.create_reagent_templates(data=reagent_templates)"
   ]
  },
  {
   "cell_type": "code",
   "execution_count": 5,
   "metadata": {},
   "outputs": [
    {
     "name": "stdout",
     "output_type": "stream",
     "text": [
      "{'description': 'Zero g'}\n",
      "http://localhost:8000/api/default-values/?description=Zero+g\n",
      "GET: OK. Found 1 results\n",
      "{}\n",
      "http://localhost:8000/api/reagent-template/6c110c88-9f11-4284-91ca-d98e65a35959/reagent-material-template/\n",
      "GET: OK. Found 1 results\n",
      "{}\n",
      "http://localhost:8000/api/reagent-template/ee6a5374-a2a2-4063-b8dd-837c599793fe/reagent-material-template/\n",
      "GET: OK. Found 1 results\n",
      "{}\n",
      "http://localhost:8000/api/reagent-template/8764b6c7-3f35-40c0-a837-92a6d5443ce2/reagent-material-template/\n",
      "GET: OK. Found 1 results\n",
      "{'description': 'amount', 'reagent_material_template': '8374da94-1178-4086-b4dd-217f219c7d1c', 'default_value': 'b8fcdb40-9879-40f6-a71d-10eda9a84fe6'}\n",
      "http://localhost:8000/api/reagent-material-value-template/?description=amount&reagent_material_template=8374da94-1178-4086-b4dd-217f219c7d1c&default_value=b8fcdb40-9879-40f6-a71d-10eda9a84fe6\n",
      "GET: OK. Found 0 results\n",
      "POST: OK, returning new resource dict\n",
      "{'description': 'amount', 'reagent_material_template': '8e1c9a76-fea7-41be-91af-9b6a3f212baf', 'default_value': 'b8fcdb40-9879-40f6-a71d-10eda9a84fe6'}\n",
      "http://localhost:8000/api/reagent-material-value-template/?description=amount&reagent_material_template=8e1c9a76-fea7-41be-91af-9b6a3f212baf&default_value=b8fcdb40-9879-40f6-a71d-10eda9a84fe6\n",
      "GET: OK. Found 0 results\n",
      "POST: OK, returning new resource dict\n",
      "{'description': 'amount', 'reagent_material_template': '4a162eae-e4bc-489d-965c-e33c1fa50fd4', 'default_value': 'b8fcdb40-9879-40f6-a71d-10eda9a84fe6'}\n",
      "http://localhost:8000/api/reagent-material-value-template/?description=amount&reagent_material_template=4a162eae-e4bc-489d-965c-e33c1fa50fd4&default_value=b8fcdb40-9879-40f6-a71d-10eda9a84fe6\n",
      "GET: OK. Found 0 results\n",
      "POST: OK, returning new resource dict\n"
     ]
    },
    {
     "data": {
      "text/plain": [
       "[{'url': 'http://localhost:8000/api/reagent-material-value-template/b681b487-80b7-4ead-8eae-b27a31d81125/',\n",
       "  'uuid': 'b681b487-80b7-4ead-8eae-b27a31d81125',\n",
       "  'edocs': [],\n",
       "  'tags': [],\n",
       "  'notes': [],\n",
       "  'add_date': '2022-03-02T16:40:10.527831',\n",
       "  'mod_date': '2022-03-02T16:40:10.527856',\n",
       "  'description': 'amount',\n",
       "  'status': None,\n",
       "  'reagent_material_template': 'http://localhost:8000/api/reagent-material-template/4a162eae-e4bc-489d-965c-e33c1fa50fd4/',\n",
       "  'default_value': 'http://localhost:8000/api/default-values/b8fcdb40-9879-40f6-a71d-10eda9a84fe6/'}]"
      ]
     },
     "execution_count": 5,
     "metadata": {},
     "output_type": "execute_result"
    }
   ],
   "source": [
    "zero_g_value = {\"value\": 0, \"unit\": \"g\", \"type\": \"num\"}\n",
    "zero_g_data = {\"description\": \"Zero g\", \"nominal_value\": zero_g_value, \"actual_value\": zero_g_value,}\n",
    "zero_g_response = client.get_or_create(endpoint='default-values', data=zero_g_data)[0]\n",
    "\n",
    "nitride = client.get(endpoint='reagent-template', \n",
    "                     resource_id=reagent_template_responses['Reagent 1 - Nitride Precursors']['uuid'], \n",
    "                     related_endpoint='reagent-material-template')[0]\n",
    "oxide = client.get(endpoint='reagent-template', \n",
    "                     resource_id=reagent_template_responses['Reagent 2 - Oxide Precursors']['uuid'], \n",
    "                     related_endpoint='reagent-material-template')[0]\n",
    "flux = client.get(endpoint='reagent-template', \n",
    "                     resource_id=reagent_template_responses['Reagent 3 - Fluxes']['uuid'], \n",
    "                     related_endpoint='reagent-material-template')[0]\n",
    "\n",
    "\n",
    "data = {\"description\": \"amount\",\n",
    "        \"reagent_material_template\": nitride['url'], # Associating it with nitride\n",
    "        \"default_value\": zero_g_response['url']}\n",
    "client.get_or_create('reagent-material-value-template', data=data)\n",
    "\n",
    "data = {\"description\": \"amount\",\n",
    "        \"reagent_material_template\": oxide['url'], # Associating it with nitride\n",
    "        \"default_value\": zero_g_response['url']}\n",
    "client.get_or_create('reagent-material-value-template', data=data)\n",
    "\n",
    "data = {\"description\": \"amount\",\n",
    "        \"reagent_material_template\": flux['url'], # Associating it with nitride\n",
    "        \"default_value\": zero_g_response['url']}\n",
    "client.get_or_create('reagent-material-value-template', data=data)"
   ]
  },
  {
   "cell_type": "code",
   "execution_count": 9,
   "metadata": {},
   "outputs": [
    {
     "name": "stdout",
     "output_type": "stream",
     "text": [
      "{'description': 'Perform experiment'}\n",
      "http://localhost:8000/api/action-sequence/?description=Perform+experiment\n",
      "GET: OK. Found 0 results\n",
      "POST: OK, returning new resource dict\n",
      "{'experiment_template': 'ba0ea00b-dd89-47fb-923a-faa9e418bf2e', 'action_sequence': '3d0a84e0-0853-4afb-a006-182853380a03'}\n",
      "http://localhost:8000/api/experiment-action-sequence/?experiment_template=ba0ea00b-dd89-47fb-923a-faa9e418bf2e&action_sequence=3d0a84e0-0853-4afb-a006-182853380a03\n",
      "GET: OK. Found 0 results\n",
      "POST: OK, returning new resource dict\n"
     ]
    }
   ],
   "source": [
    "action_sequence_names = [\"Perform experiment\"]\n",
    "asn_responses = {}\n",
    "for sequence_number, asn in enumerate(action_sequence_names):\n",
    "    data = {'description': asn}\n",
    "    # Create action sequence\n",
    "    asn_responses[asn] = client.get_or_create(endpoint='action-sequence', data=data)[0]\n",
    "    # Associate with experiment template\n",
    "    data = {'experiment_action_sequence_seq': sequence_number,\n",
    "            'experiment_template': template_response['url'],\n",
    "            'action_sequence': asn_responses[asn]['url']}\n",
    "    client.get_or_create(endpoint='experiment-action-sequence', data=data)"
   ]
  },
  {
   "cell_type": "code",
   "execution_count": 10,
   "metadata": {},
   "outputs": [
    {
     "name": "stdout",
     "output_type": "stream",
     "text": [
      "{'description': 'bring_to_temperature'}\n",
      "http://localhost:8000/api/action-def/?description=bring_to_temperature\n",
      "GET: OK. Found 1 results\n",
      "[('temperature', {'type': 'num', 'unit': 'degC', 'value': 0.0})]\n",
      "{'description': 'temperature'}\n",
      "http://localhost:8000/api/parameter-def/?description=temperature\n",
      "GET: OK. Found 2 results\n",
      "{'description': 'dwell'}\n",
      "http://localhost:8000/api/action-def/?description=dwell\n",
      "GET: OK. Found 1 results\n",
      "[('duration', {'type': 'num', 'unit': 'seconds', 'value': 0.0})]\n",
      "{'description': 'duration'}\n",
      "http://localhost:8000/api/parameter-def/?description=duration\n",
      "GET: OK. Found 2 results\n",
      "{'description': 'cool_to_temperature'}\n",
      "http://localhost:8000/api/action-def/?description=cool_to_temperature\n",
      "GET: OK. Found 0 results\n",
      "POST: OK, returning new resource dict\n",
      "[('temperature', {'type': 'num', 'unit': 'degC', 'value': 0.0})]\n",
      "{'description': 'temperature'}\n",
      "http://localhost:8000/api/parameter-def/?description=temperature\n",
      "GET: OK. Found 2 results\n"
     ]
    }
   ],
   "source": [
    "action_parameter_def = {\n",
    "            \"bring_to_temperature\": [(\"temperature\", {\"type\": \"num\", \"unit\": \"degC\", \"value\": 0.0})],\n",
    "            \"dwell\": [(\"duration\", {\"type\": \"num\", \"unit\": \"seconds\", \"value\": 0.0})],\n",
    "            \"cool_to_temperature\": [(\"temperature\", {\"type\": \"num\", \"unit\": \"degC\", \"value\": 0.0})],\n",
    "        }\n",
    "# Convenience function to add action defs and their parameter definitions\n",
    "action_defs, parameter_defs = client.create_action_parameters(data=action_parameter_def)\n"
   ]
  },
  {
   "cell_type": "code",
   "execution_count": null,
   "metadata": {},
   "outputs": [],
   "source": []
  }
 ],
 "metadata": {
  "interpreter": {
   "hash": "447f0e42cfad2457edbcf95bc5af80fabaa4025170a4dd71642e793362cff6c2"
  },
  "kernelspec": {
   "display_name": "Python 3.8.3 ('escalate-3.8.3')",
   "language": "python",
   "name": "python3"
  },
  "language_info": {
   "codemirror_mode": {
    "name": "ipython",
    "version": 3
   },
   "file_extension": ".py",
   "mimetype": "text/x-python",
   "name": "python",
   "nbconvert_exporter": "python",
   "pygments_lexer": "ipython3",
   "version": "3.8.3"
  },
  "orig_nbformat": 4
 },
 "nbformat": 4,
 "nbformat_minor": 2
}
