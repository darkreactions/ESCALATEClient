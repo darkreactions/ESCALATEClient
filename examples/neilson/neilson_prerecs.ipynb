{
 "cells": [
  {
   "cell_type": "code",
   "execution_count": 44,
   "metadata": {},
   "outputs": [
    {
     "name": "stdout",
     "output_type": "stream",
     "text": [
      "The autoreload extension is already loaded. To reload it, use:\n",
      "  %reload_ext autoreload\n"
     ]
    }
   ],
   "source": [
    "import os\n",
    "import sys\n",
    "module_path = os.path.abspath(os.path.join('../../'))\n",
    "if module_path not in sys.path:\n",
    "    sys.path.append(module_path)\n",
    "import escalateclient\n",
    "import importlib\n",
    "%load_ext autoreload\n",
    "%autoreload 2\n"
   ]
  },
  {
   "cell_type": "code",
   "execution_count": 45,
   "metadata": {},
   "outputs": [],
   "source": [
    "importlib.reload(escalateclient)\n",
    "server_url = 'http://localhost:8000'\n",
    "# server_url = 'https://escalate.cs.haverford.edu/test_server'\n",
    "username = 'vshekar'\n",
    "password = 'copperhead123'\n",
    "client = escalateclient.ESCALATEClient(server_url, username, password)"
   ]
  },
  {
   "cell_type": "code",
   "execution_count": 46,
   "metadata": {},
   "outputs": [
    {
     "name": "stdout",
     "output_type": "stream",
     "text": [
      "{'description': 'Neilson Lab', 'person__isnull': True, 'systemtool__isnull': True}\n",
      "GET: OK. Found 1 results\n"
     ]
    }
   ],
   "source": [
    "neilson_lab_response = client.get_or_create(endpoint='actor', data={'description': 'Neilson Lab', 'person__isnull': True, 'systemtool__isnull': True})[0]"
   ]
  },
  {
   "cell_type": "code",
   "execution_count": 47,
   "metadata": {},
   "outputs": [
    {
     "name": "stdout",
     "output_type": "stream",
     "text": [
      "{'description': 'Reagent 1 - Nitride Precursors'}\n",
      "GET: OK. Found 0 results\n",
      "POST: OK, returning new resource dict\n",
      "{'description': 'nitride'}\n",
      "GET: OK. Found 0 results\n",
      "POST: OK, returning new resource dict\n",
      "{'description': 'Reagent 1 - Nitride Precursors: nitride', 'reagent_template': 'ae7e3660-cd01-43cc-b907-6c05fce855f4', 'material_type': '9cd2ec88-172e-4873-bd27-18c1ca7f2fcf'}\n",
      "GET: OK. Found 0 results\n",
      "POST: OK, returning new resource dict\n",
      "{'description': 'Reagent 2 - Oxide Precursors'}\n",
      "GET: OK. Found 0 results\n",
      "POST: OK, returning new resource dict\n",
      "{'description': 'oxide'}\n",
      "GET: OK. Found 0 results\n",
      "POST: OK, returning new resource dict\n",
      "{'description': 'Reagent 2 - Oxide Precursors: oxide', 'reagent_template': '737abf04-a1de-4f90-99cc-d5eea0f4cbc4', 'material_type': '915ee791-c863-464b-97f2-8da957eba893'}\n",
      "GET: OK. Found 0 results\n",
      "POST: OK, returning new resource dict\n",
      "{'description': 'Reagent 3 - Fluxes'}\n",
      "GET: OK. Found 0 results\n",
      "POST: OK, returning new resource dict\n",
      "{'description': 'flux'}\n",
      "GET: OK. Found 0 results\n",
      "POST: OK, returning new resource dict\n",
      "{'description': 'Reagent 3 - Fluxes: flux', 'reagent_template': '32aa0209-4626-4fe8-9941-613a74dc9ca0', 'material_type': 'fd3e16a4-3a60-40a6-ad4b-868144c5229d'}\n",
      "GET: OK. Found 0 results\n",
      "POST: OK, returning new resource dict\n"
     ]
    }
   ],
   "source": [
    "reagent_templates = {\n",
    "            \"Reagent 1 - Nitride Precursors\": {\"chemical_types\": [\"nitride\"]},\n",
    "            \"Reagent 2 - Oxide Precursors\": {\"chemical_types\": [\"oxide\"]},\n",
    "            \"Reagent 3 - Fluxes\": {\"chemical_types\": [\"flux\"]}\n",
    "        }\n",
    "\n",
    "reagent_template_responses, rmt_responses = client.create_reagent_templates(data=reagent_templates)"
   ]
  },
  {
   "cell_type": "code",
   "execution_count": 48,
   "metadata": {},
   "outputs": [
    {
     "name": "stdout",
     "output_type": "stream",
     "text": [
      "{'description': 'Zero g'}\n",
      "GET: OK. Found 1 results\n",
      "{}\n",
      "GET: OK. Found 1 results\n",
      "{}\n",
      "GET: OK. Found 1 results\n",
      "{}\n",
      "GET: OK. Found 1 results\n",
      "{'description': 'amount', 'default_value': '994c557c-a74d-4d3c-8591-48274cb25faf'}\n",
      "GET: OK. Found 1 results\n",
      "Status 200: OK\n",
      "Status 200: OK\n",
      "Status 200: OK\n"
     ]
    },
    {
     "data": {
      "text/plain": [
       "{'url': 'http://localhost:8000/api/reagent-material-template/7b6c9be0-244b-4273-b080-b936c11053a7/',\n",
       " 'uuid': '7b6c9be0-244b-4273-b080-b936c11053a7',\n",
       " 'edocs': [],\n",
       " 'tags': [],\n",
       " 'notes': [],\n",
       " 'add_date': '2022-04-20T22:31:31.695672',\n",
       " 'mod_date': '2022-04-20T22:31:36.158357',\n",
       " 'description': 'Reagent 3 - Fluxes: flux',\n",
       " 'status': None,\n",
       " 'reagent_template': 'http://localhost:8000/api/reagent-template/32aa0209-4626-4fe8-9941-613a74dc9ca0/',\n",
       " 'material_type': 'http://localhost:8000/api/material-type/fd3e16a4-3a60-40a6-ad4b-868144c5229d/',\n",
       " 'properties': ['http://localhost:8000/api/property-template/7d33e094-1b6e-464a-a260-3c81f8d6019d/']}"
      ]
     },
     "execution_count": 48,
     "metadata": {},
     "output_type": "execute_result"
    }
   ],
   "source": [
    "zero_g_value = {\"value\": 0, \"unit\": \"g\", \"type\": \"num\"}\n",
    "zero_g_data = {\"description\": \"Zero g\", \"nominal_value\": zero_g_value, \"actual_value\": zero_g_value,}\n",
    "zero_g_response = client.get_or_create(endpoint='default-values', data=zero_g_data)[0]\n",
    "\n",
    "nitride = client.get(endpoint='reagent-template', \n",
    "                     resource_id=reagent_template_responses['Reagent 1 - Nitride Precursors']['uuid'], \n",
    "                     related_endpoint='reagent-material-template')[0]\n",
    "oxide = client.get(endpoint='reagent-template', \n",
    "                     resource_id=reagent_template_responses['Reagent 2 - Oxide Precursors']['uuid'], \n",
    "                     related_endpoint='reagent-material-template')[0]\n",
    "flux = client.get(endpoint='reagent-template', \n",
    "                     resource_id=reagent_template_responses['Reagent 3 - Fluxes']['uuid'], \n",
    "                     related_endpoint='reagent-material-template')[0]\n",
    "\n",
    "\n",
    "data = {\"description\": \"amount\",\n",
    "        \"default_value\": zero_g_response['url']}\n",
    "prop_amount = client.get_or_create('property-template', data=data)[0]\n",
    "nitride['properties'].append(prop_amount['url'])\n",
    "client.patch('reagent-material-template', nitride['uuid'], {'properties': nitride['properties']})\n",
    "\n",
    "oxide['properties'].append(prop_amount['url'])\n",
    "client.patch('reagent-material-template', oxide['uuid'], {'properties': oxide['properties']})\n",
    "\n",
    "flux['properties'].append(prop_amount['url'])\n",
    "client.patch('reagent-material-template', flux['uuid'], {'properties': flux['properties']})\n"
   ]
  },
  {
   "cell_type": "code",
   "execution_count": 49,
   "metadata": {},
   "outputs": [
    {
     "name": "stdout",
     "output_type": "stream",
     "text": [
      "{'description': 'temperature'}\n",
      "GET: OK. Found 1 results\n",
      "{'description': 'bring_to_temperature', 'parameter_def': ['http://localhost:8000/api/parameter-def/1236f3f6-820d-4539-af40-a348114d227d/']}\n",
      "GET: OK. Found 0 results\n",
      "POST: OK, returning new resource dict\n",
      "[('temperature', {'type': 'num', 'unit': 'degC', 'value': 0.0})]\n",
      "{'description': 'duration'}\n",
      "GET: OK. Found 1 results\n",
      "{'description': 'dwell', 'parameter_def': ['http://localhost:8000/api/parameter-def/1d572299-e12c-4b98-8743-dc6e1c568d59/']}\n",
      "GET: OK. Found 0 results\n",
      "POST: OK, returning new resource dict\n",
      "[('duration', {'type': 'num', 'unit': 'seconds', 'value': 0.0})]\n",
      "{'description': 'temperature'}\n",
      "GET: OK. Found 1 results\n",
      "{'description': 'cool_to_temperature', 'parameter_def': ['http://localhost:8000/api/parameter-def/1236f3f6-820d-4539-af40-a348114d227d/']}\n",
      "GET: OK. Found 0 results\n",
      "POST: OK, returning new resource dict\n",
      "[('temperature', {'type': 'num', 'unit': 'degC', 'value': 0.0})]\n"
     ]
    }
   ],
   "source": [
    "action_parameter_def = {\n",
    "            \"bring_to_temperature\": [(\"temperature\", {\"type\": \"num\", \"unit\": \"degC\", \"value\": 0.0})],\n",
    "            \"dwell\": [(\"duration\", {\"type\": \"num\", \"unit\": \"seconds\", \"value\": 0.0})],\n",
    "            \"cool_to_temperature\": [(\"temperature\", {\"type\": \"num\", \"unit\": \"degC\", \"value\": 0.0})],\n",
    "        }\n",
    "# Convenience function to add action defs and their parameter definitions\n",
    "action_defs, parameter_defs = client.create_action_parameters(data=action_parameter_def)\n"
   ]
  },
  {
   "cell_type": "code",
   "execution_count": 50,
   "metadata": {},
   "outputs": [
    {
     "name": "stdout",
     "output_type": "stream",
     "text": [
      "{'description': 'dispense'}\n",
      "GET: OK. Found 1 results\n"
     ]
    }
   ],
   "source": [
    "action_defs['dispense'] = client.get('action-def', data={'description':'dispense'})[0]"
   ]
  },
  {
   "cell_type": "code",
   "execution_count": 51,
   "metadata": {},
   "outputs": [
    {
     "name": "stdout",
     "output_type": "stream",
     "text": [
      "{'description': 'Nitride Vessel'}\n",
      "GET: OK. Found 0 results\n",
      "POST: OK, returning new resource dict\n",
      "{'description': 'Oxide Vessel'}\n",
      "GET: OK. Found 0 results\n",
      "POST: OK, returning new resource dict\n",
      "{'description': 'Flux Vessel'}\n",
      "GET: OK. Found 0 results\n",
      "POST: OK, returning new resource dict\n",
      "{'description': 'Outcome vessel'}\n",
      "GET: OK. Found 1 results\n"
     ]
    }
   ],
   "source": [
    "# Create Vessel templates\n",
    "vessel_templates = {}\n",
    "for vessel_template_description in ['Nitride Vessel', 'Oxide Vessel', 'Flux Vessel', 'Outcome vessel']:\n",
    "    vessel_templates[vessel_template_description] = client.get_or_create('vessel-template', data={'description': vessel_template_description, 'outcome_vessel': False})[0]"
   ]
  },
  {
   "cell_type": "code",
   "execution_count": 52,
   "metadata": {},
   "outputs": [
    {
     "name": "stdout",
     "output_type": "stream",
     "text": [
      "{'description': 'Neilson Outcome'}\n",
      "GET: OK. Found 0 results\n",
      "POST: OK, returning new resource dict\n"
     ]
    }
   ],
   "source": [
    "outcome_response = client.get_or_create('outcome-template', data={'description': 'Neilson Outcome'})[0]\n"
   ]
  },
  {
   "cell_type": "code",
   "execution_count": 56,
   "metadata": {},
   "outputs": [
    {
     "name": "stdout",
     "output_type": "stream",
     "text": [
      "{'description': 'Neilson Experiment', 'ref_id': 'workflow_1', 'lab': '73f43230-72f9-4263-adcf-17c38ea29dac', 'vessel_templates': ['http://localhost:8000/api/vessel-template/27327a1e-ea21-41b5-a3b5-ba001f7d1b42/', 'http://localhost:8000/api/vessel-template/c71e0a84-ddf0-45d6-87cb-6475e9ad71b6/', 'http://localhost:8000/api/vessel-template/73b6e4bd-28bd-4f17-a6e4-c5b9ff171f07/', 'http://localhost:8000/api/vessel-template/4f80aeeb-ee0d-43bf-8451-3b696b1c7946/'], 'reagent_templates': ['http://localhost:8000/api/reagent-template/ae7e3660-cd01-43cc-b907-6c05fce855f4/', 'http://localhost:8000/api/reagent-template/737abf04-a1de-4f90-99cc-d5eea0f4cbc4/', 'http://localhost:8000/api/reagent-template/32aa0209-4626-4fe8-9941-613a74dc9ca0/'], 'outcome_templates': ['http://localhost:8000/api/outcome-template/bb678a09-5ee4-4125-a411-3081577d91b7/']}\n",
      "GET: OK. Found 0 results\n",
      "POST: OK, returning new resource dict\n"
     ]
    }
   ],
   "source": [
    "# Add vessel templates to Experiment template\n",
    "vt_urls = [vt['url'] for vt in vessel_templates.values()]\n",
    "rt_urls = [rt['url'] for rt in reagent_template_responses.values()]\n",
    "ot_urls = [outcome_response['url']]\n",
    "experiment_template_data = {'description': 'Neilson Experiment', \n",
    "                            'ref_id': 'workflow_1', \n",
    "                            'lab': neilson_lab_response['url'],\n",
    "                            'vessel_templates': vt_urls,\n",
    "                            'reagent_templates': rt_urls,\n",
    "                            'outcome_templates': ot_urls\n",
    "                            }\n",
    "template_response = client.get_or_create(endpoint='experiment-template', data=experiment_template_data)[0]\n",
    "\n"
   ]
  },
  {
   "cell_type": "code",
   "execution_count": 57,
   "metadata": {},
   "outputs": [
    {
     "data": {
      "text/plain": [
       "['http://localhost:8000/api/reagent-template/ae7e3660-cd01-43cc-b907-6c05fce855f4/',\n",
       " 'http://localhost:8000/api/reagent-template/737abf04-a1de-4f90-99cc-d5eea0f4cbc4/',\n",
       " 'http://localhost:8000/api/reagent-template/32aa0209-4626-4fe8-9941-613a74dc9ca0/']"
      ]
     },
     "execution_count": 57,
     "metadata": {},
     "output_type": "execute_result"
    }
   ],
   "source": [
    "rt_urls"
   ]
  },
  {
   "cell_type": "code",
   "execution_count": 58,
   "metadata": {},
   "outputs": [
    {
     "name": "stdout",
     "output_type": "stream",
     "text": [
      "{'description': 'Dispense Nitrides', 'experiment_template': '9662fef4-7fb0-4a4c-b168-9afb89314693', 'action_def': 'ffdab19b-b8cf-47a1-822b-b396c20f7b02', 'source_vessel_template': '27327a1e-ea21-41b5-a3b5-ba001f7d1b42', 'dest_vessel_template': '4f80aeeb-ee0d-43bf-8451-3b696b1c7946'}\n",
      "GET: OK. Found 0 results\n",
      "POST: OK, returning new resource dict\n"
     ]
    }
   ],
   "source": [
    "# Create action templates\n",
    "dispense_nitrides_data = {\n",
    "    \"description\": \"Dispense Nitrides\",\n",
    "    \"source_vessel_decomposable\": False,\n",
    "    \"dest_vessel_decomposable\": False,\n",
    "    \"experiment_template\": template_response['url'],\n",
    "    \"action_def\": action_defs['dispense']['url'],\n",
    "    \"source_vessel_template\": vessel_templates['Nitride Vessel']['url'],\n",
    "    \"dest_vessel_template\": vessel_templates['Outcome vessel']['url'],\n",
    "    \"parent\": []\n",
    "}\n",
    "dispense_nitrides_data = client.get_or_create('action-template', data=dispense_nitrides_data)[0]\n"
   ]
  },
  {
   "cell_type": "code",
   "execution_count": 59,
   "metadata": {},
   "outputs": [
    {
     "name": "stdout",
     "output_type": "stream",
     "text": [
      "{'description': 'Dispense Oxides', 'experiment_template': '9662fef4-7fb0-4a4c-b168-9afb89314693', 'action_def': 'ffdab19b-b8cf-47a1-822b-b396c20f7b02', 'source_vessel_template': 'c71e0a84-ddf0-45d6-87cb-6475e9ad71b6', 'dest_vessel_template': '4f80aeeb-ee0d-43bf-8451-3b696b1c7946', 'parent': ['http://localhost:8000/api/action-template/d1343e47-9aa0-4e9f-bbc3-abfa03a3218d/']}\n",
      "GET: OK. Found 0 results\n",
      "POST: OK, returning new resource dict\n"
     ]
    }
   ],
   "source": [
    "dispense_oxides_data = {\n",
    "    \"description\": \"Dispense Oxides\",\n",
    "    \"source_vessel_decomposable\": False,\n",
    "    \"dest_vessel_decomposable\": False,\n",
    "    \"experiment_template\": template_response['url'],\n",
    "    \"action_def\": action_defs['dispense']['url'],\n",
    "    \"source_vessel_template\": vessel_templates['Oxide Vessel']['url'],\n",
    "    \"dest_vessel_template\": vessel_templates['Outcome vessel']['url'],\n",
    "    \"parent\": [dispense_nitrides_data['url']]\n",
    "}\n",
    "dispense_oxides_data = client.get_or_create('action-template', data=dispense_oxides_data)[0]"
   ]
  },
  {
   "cell_type": "code",
   "execution_count": 60,
   "metadata": {},
   "outputs": [
    {
     "name": "stdout",
     "output_type": "stream",
     "text": [
      "{'description': 'Dispense Flux', 'experiment_template': '9662fef4-7fb0-4a4c-b168-9afb89314693', 'action_def': 'ffdab19b-b8cf-47a1-822b-b396c20f7b02', 'source_vessel_template': '73b6e4bd-28bd-4f17-a6e4-c5b9ff171f07', 'dest_vessel_template': '4f80aeeb-ee0d-43bf-8451-3b696b1c7946', 'parent': ['http://localhost:8000/api/action-template/aaddf54f-2c44-4677-b0f4-9f802b4caaf9/']}\n",
      "GET: OK. Found 0 results\n",
      "POST: OK, returning new resource dict\n"
     ]
    }
   ],
   "source": [
    "dispense_flux_data = {\n",
    "    \"description\": \"Dispense Flux\",\n",
    "    \"source_vessel_decomposable\": False,\n",
    "    \"dest_vessel_decomposable\": False,\n",
    "    \"experiment_template\": template_response['url'],\n",
    "    \"action_def\": action_defs['dispense']['url'],\n",
    "    \"source_vessel_template\": vessel_templates['Flux Vessel']['url'],\n",
    "    \"dest_vessel_template\": vessel_templates['Outcome vessel']['url'],\n",
    "    \"parent\": [dispense_oxides_data['url']]\n",
    "}\n",
    "dispense_flux_data = client.get_or_create('action-template', data=dispense_flux_data)[0]"
   ]
  },
  {
   "cell_type": "code",
   "execution_count": 61,
   "metadata": {},
   "outputs": [
    {
     "data": {
      "text/plain": [
       "dict_keys(['bring_to_temperature', 'dwell', 'cool_to_temperature', 'dispense'])"
      ]
     },
     "execution_count": 61,
     "metadata": {},
     "output_type": "execute_result"
    }
   ],
   "source": [
    "action_defs.keys()"
   ]
  },
  {
   "cell_type": "code",
   "execution_count": 62,
   "metadata": {},
   "outputs": [
    {
     "name": "stdout",
     "output_type": "stream",
     "text": [
      "{'description': 'Heat to T', 'experiment_template': '9662fef4-7fb0-4a4c-b168-9afb89314693', 'action_def': '199d371e-4772-4a75-8fee-41e8f2eb05a0', 'dest_vessel_template': '4f80aeeb-ee0d-43bf-8451-3b696b1c7946', 'parent': ['http://localhost:8000/api/action-template/b6d539c9-32eb-4fb3-a525-d532a8c0529c/']}\n",
      "GET: OK. Found 0 results\n",
      "POST: OK, returning new resource dict\n"
     ]
    }
   ],
   "source": [
    "heat_to_t_data = {\n",
    "    \"description\": \"Heat to T\",\n",
    "    \"source_vessel_decomposable\": False,\n",
    "    \"dest_vessel_decomposable\": False,\n",
    "    \"experiment_template\": template_response['url'],\n",
    "    \"action_def\": action_defs['bring_to_temperature']['url'],\n",
    "    \"source_vessel_template\": None,\n",
    "    \"dest_vessel_template\": vessel_templates['Outcome vessel']['url'],\n",
    "    \"parent\": [dispense_flux_data['url']]\n",
    "}\n",
    "heat_to_t_data = client.get_or_create('action-template', data=heat_to_t_data)[0]"
   ]
  },
  {
   "cell_type": "code",
   "execution_count": 63,
   "metadata": {},
   "outputs": [
    {
     "name": "stdout",
     "output_type": "stream",
     "text": [
      "{'description': 'Dwell at T', 'experiment_template': '9662fef4-7fb0-4a4c-b168-9afb89314693', 'action_def': '56c35b7c-30aa-4270-bcd4-f64929797cf8', 'dest_vessel_template': '4f80aeeb-ee0d-43bf-8451-3b696b1c7946', 'parent': ['http://localhost:8000/api/action-template/48631907-16d1-4bff-97f6-b4dbf83e48da/']}\n",
      "GET: OK. Found 0 results\n",
      "POST: OK, returning new resource dict\n"
     ]
    }
   ],
   "source": [
    "dwell_at_t_data = {\n",
    "    \"description\": \"Dwell at T\",\n",
    "    \"source_vessel_decomposable\": False,\n",
    "    \"dest_vessel_decomposable\": False,\n",
    "    \"experiment_template\": template_response['url'],\n",
    "    \"action_def\": action_defs['dwell']['url'],\n",
    "    \"source_vessel_template\": None,\n",
    "    \"dest_vessel_template\": vessel_templates['Outcome vessel']['url'],\n",
    "    \"parent\": [heat_to_t_data['url']]\n",
    "}\n",
    "dwell_at_t_data = client.get_or_create('action-template', data=dwell_at_t_data)[0]"
   ]
  },
  {
   "cell_type": "code",
   "execution_count": 64,
   "metadata": {},
   "outputs": [
    {
     "name": "stdout",
     "output_type": "stream",
     "text": [
      "{'description': 'Cool to T', 'experiment_template': '9662fef4-7fb0-4a4c-b168-9afb89314693', 'action_def': '4998b80c-7f0e-405c-b508-a15e6abbb771', 'dest_vessel_template': '4f80aeeb-ee0d-43bf-8451-3b696b1c7946', 'parent': ['http://localhost:8000/api/action-template/3ae564e5-a060-4649-8097-d9909cf26293/']}\n",
      "GET: OK. Found 0 results\n",
      "POST: OK, returning new resource dict\n"
     ]
    }
   ],
   "source": [
    "cool_to_t_data = {\n",
    "    \"description\": \"Cool to T\",\n",
    "    \"source_vessel_decomposable\": False,\n",
    "    \"dest_vessel_decomposable\": False,\n",
    "    \"experiment_template\": template_response['url'],\n",
    "    \"action_def\": action_defs['cool_to_temperature']['url'],\n",
    "    \"source_vessel_template\": None,\n",
    "    \"dest_vessel_template\": vessel_templates['Outcome vessel']['url'],\n",
    "    \"parent\": [dwell_at_t_data['url']]\n",
    "}\n",
    "cool_to_t_data = client.get_or_create('action-template', data=cool_to_t_data)[0]"
   ]
  }
 ],
 "metadata": {
  "interpreter": {
   "hash": "447f0e42cfad2457edbcf95bc5af80fabaa4025170a4dd71642e793362cff6c2"
  },
  "kernelspec": {
   "display_name": "Python 3.8.3 ('escalate-3.8.3')",
   "language": "python",
   "name": "python3"
  },
  "language_info": {
   "codemirror_mode": {
    "name": "ipython",
    "version": 3
   },
   "file_extension": ".py",
   "mimetype": "text/x-python",
   "name": "python",
   "nbconvert_exporter": "python",
   "pygments_lexer": "ipython3",
   "version": "3.8.3"
  },
  "orig_nbformat": 4
 },
 "nbformat": 4,
 "nbformat_minor": 2
}
