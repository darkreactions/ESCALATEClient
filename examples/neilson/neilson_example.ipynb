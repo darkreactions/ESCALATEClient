{
 "cells": [
  {
   "cell_type": "code",
   "execution_count": 2,
   "metadata": {},
   "outputs": [],
   "source": [
    "import os\n",
    "import sys\n",
    "module_path = os.path.abspath(os.path.join('../../'))\n",
    "if module_path not in sys.path:\n",
    "    sys.path.append(module_path)\n",
    "import escalateclient\n",
    "import importlib"
   ]
  },
  {
   "cell_type": "markdown",
   "metadata": {},
   "source": [
    "First, login to the escalate server where your data is hosted. In this case we are logging in to a local instance of the webserver running on port 8000"
   ]
  },
  {
   "cell_type": "code",
   "execution_count": 2,
   "metadata": {},
   "outputs": [],
   "source": [
    "importlib.reload(escalateclient)\n",
    "server_url = 'http://localhost:8000'\n",
    "username = 'vshekar'\n",
    "password = 'copperhead123'\n",
    "client = escalateclient.ESCALATEClient(server_url, username, password)"
   ]
  },
  {
   "cell_type": "code",
   "execution_count": 6,
   "metadata": {},
   "outputs": [
    {
     "name": "stdout",
     "output_type": "stream",
     "text": [
      "GET: OK\n",
      "Found one resource, returning dict\n"
     ]
    }
   ],
   "source": [
    "# Get the Nielson lab\n",
    "nielson_lab_response = client.get(endpoint='actor', data={'description': 'Nielson Lab', 'person__isnull': True, 'systemtool__isnull': True})"
   ]
  },
  {
   "cell_type": "code",
   "execution_count": null,
   "metadata": {},
   "outputs": [],
   "source": [
    "active_status = client.get_or_create(endpoint='status', data={'description': 'active'})\n",
    "\n",
    "# Inventory details\n",
    "nl_inventory = {\n",
    "    \"description\": \"Nielson Lab Inventory\",\n",
    "    \"status\": active_status[0]['url'], # Indicates active status\n",
    "    \"actor\": nielson_lab_response[0]['url'],\n",
    "    \"owner\": nielson_lab_response[0]['url'], # Indicates James Neilson as owner\n",
    "    \"operator\": nielson_lab_response[0]['url'], # Indicates James Neilson as operator\n",
    "    \"lab\": nielson_lab_response[0]['url'] # Associates inventory with Neilson Lab\n",
    "}\n",
    "\n",
    "# Get lab inventory\n",
    "nl_inventory_response = client.get_or_create(endpoint='inventory', data=nl_inventory)"
   ]
  },
  {
   "cell_type": "code",
   "execution_count": null,
   "metadata": {},
   "outputs": [],
   "source": [
    "# Load materials into inventory\n",
    "\n",
    "import pandas as pd \n",
    "df = pd.read_csv('MetalChalcogenideRxns.csv')\n",
    "#Add material to db\n",
    "data = {\n",
    "    'description': '',\n",
    "    'consumable': True,\n",
    "    'material_class': 'model',\n",
    "}\n",
    "\n",
    "for chemical in df['Product expected']:\n",
    "    data['description'] = chemical\n",
    "    client.post('material', data=data)\n",
    "\n",
    "for i, row in df.iterrows():\n",
    "    material_name = row['Product expected']\n",
    "    # Check that material is in db (add it if it isn't)\n",
    "    material_data = {'description': material_name, \n",
    "                        'consumable': True,\n",
    "                        'material_class':'model'}\n",
    "    material_response = client.get_or_create('material', data=material_data)\n",
    "    # Add material to inventory\n",
    "    im_data = {\n",
    "        \"description\": material_name,\n",
    "        \"phase\": \"solid\",\n",
    "        \"inventory\": nl_inventory_response[0]['url'],\n",
    "        \"material\": material_response[0]['url']\n",
    "    }\n",
    "    im_response = client.get_or_create('inventory-material', data=im_data)"
   ]
  }
 ],
 "metadata": {
  "interpreter": {
   "hash": "447f0e42cfad2457edbcf95bc5af80fabaa4025170a4dd71642e793362cff6c2"
  },
  "kernelspec": {
   "display_name": "Python 3.8.3 ('escalate-3.8.3')",
   "language": "python",
   "name": "python3"
  },
  "language_info": {
   "codemirror_mode": {
    "name": "ipython",
    "version": 3
   },
   "file_extension": ".py",
   "mimetype": "text/x-python",
   "name": "python",
   "nbconvert_exporter": "python",
   "pygments_lexer": "ipython3",
   "version": "3.8.3"
  },
  "orig_nbformat": 4
 },
 "nbformat": 4,
 "nbformat_minor": 2
}
