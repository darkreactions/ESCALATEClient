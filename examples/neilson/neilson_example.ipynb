{
 "cells": [
  {
   "cell_type": "code",
   "execution_count": 1,
   "metadata": {},
   "outputs": [],
   "source": [
    "import os\n",
    "import sys\n",
    "module_path = os.path.abspath(os.path.join('../../../'))\n",
    "if module_path not in sys.path:\n",
    "    sys.path.append(module_path)\n",
    "import escalateclient\n",
    "import importlib"
   ]
  },
  {
   "cell_type": "markdown",
   "metadata": {},
   "source": [
    "First, login to the escalate server where your data is hosted. In this case we are logging in to a local instance of the webserver running on port 8000"
   ]
  },
  {
   "cell_type": "code",
   "execution_count": 2,
   "metadata": {},
   "outputs": [],
   "source": [
    "importlib.reload(escalateclient)\n",
    "server_url = 'http://localhost:8000'\n",
    "username = 'vshekar'\n",
    "password = 'copperhead123'\n",
    "client = escalateclient.ESCALATEClient(server_url, username, password)"
   ]
  },
  {
   "cell_type": "code",
   "execution_count": 6,
   "metadata": {},
   "outputs": [
    {
     "name": "stdout",
     "output_type": "stream",
     "text": [
      "GET: OK\n",
      "Found one resource, returning dict\n"
     ]
    }
   ],
   "source": [
    "# Get the Nielson lab\n",
    "nielson_lab_response = client.get(endpoint='actor', data={'description': 'Nielson Lab', 'person__isnull': True, 'systemtool__isnull': True})"
   ]
  },
  {
   "cell_type": "code",
   "execution_count": null,
   "metadata": {},
   "outputs": [],
   "source": []
  }
 ],
 "metadata": {
  "interpreter": {
   "hash": "447f0e42cfad2457edbcf95bc5af80fabaa4025170a4dd71642e793362cff6c2"
  },
  "kernelspec": {
   "display_name": "Python 3.8.3 ('escalate-3.8.3')",
   "language": "python",
   "name": "python3"
  },
  "language_info": {
   "codemirror_mode": {
    "name": "ipython",
    "version": 3
   },
   "file_extension": ".py",
   "mimetype": "text/x-python",
   "name": "python",
   "nbconvert_exporter": "python",
   "pygments_lexer": "ipython3",
   "version": "3.8.3"
  },
  "orig_nbformat": 4
 },
 "nbformat": 4,
 "nbformat_minor": 2
}
